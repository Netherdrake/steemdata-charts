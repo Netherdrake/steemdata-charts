{
 "cells": [
  {
   "cell_type": "code",
   "execution_count": 1,
   "metadata": {
    "collapsed": true
   },
   "outputs": [],
   "source": [
    "import datetime as dt\n",
    "from steemdata import SteemData\n",
    "\n",
    "import pandas as pd\n",
    "import numpy as np\n",
    "\n",
    "import plotly.plotly as py\n",
    "import plotly.graph_objs as go\n",
    "import cufflinks as cf\n",
    "    \n",
    "# helpers\n",
    "from toolz import keyfilter\n",
    "\n",
    "def keep(d, whitelist):\n",
    "    return keyfilter(lambda k: k in whitelist, d)\n",
    "\n",
    "def omit(d, blacklist):\n",
    "    return keyfilter(lambda k: k not in blacklist, d)"
   ]
  },
  {
   "cell_type": "code",
   "execution_count": 2,
   "metadata": {
    "collapsed": true
   },
   "outputs": [],
   "source": [
    "db = SteemData().db"
   ]
  },
  {
   "cell_type": "code",
   "execution_count": null,
   "metadata": {
    "collapsed": true
   },
   "outputs": [],
   "source": []
  },
  {
   "cell_type": "markdown",
   "metadata": {},
   "source": [
    "## Methods"
   ]
  },
  {
   "cell_type": "code",
   "execution_count": 3,
   "metadata": {
    "collapsed": true
   },
   "outputs": [],
   "source": [
    "import json\n",
    "import requests as rs\n",
    "from steem.post import Post\n",
    "\n",
    "def get_csrf(url):\n",
    "    resp = rs.get(url)\n",
    "\n",
    "    if resp.status_code == 200:\n",
    "        body = resp.text\n",
    "        start_index = body.find('\"csrf\":\"')\n",
    "        csrf = body[start_index + 8:start_index + 44]\n",
    "        return csrf, resp.cookies\n",
    "\n",
    "def get_view_count(url_partial, csrf, cookies):\n",
    "    payload = {\n",
    "        \"csrf\": csrf,\n",
    "        \"page\": url_partial,\n",
    "        \"ref\": \"\",\n",
    "    }\n",
    "\n",
    "    url = 'https://steemit.com/api/v1/page_view'\n",
    "    resp = rs.post(url, json=payload, cookies=cookies)\n",
    "\n",
    "    if resp.status_code == 200 and resp.text:\n",
    "        return json.loads(resp.text)\n",
    "    return {}\n",
    "\n",
    "def get_views(identifier):\n",
    "    p = Post(identifier)\n",
    "    csrf, cookies = get_csrf('https://steemit.com' + p.url)\n",
    "    return get_view_count(p.url, csrf, cookies).get('views', -1)"
   ]
  },
  {
   "cell_type": "code",
   "execution_count": null,
   "metadata": {
    "collapsed": true
   },
   "outputs": [],
   "source": []
  },
  {
   "cell_type": "markdown",
   "metadata": {},
   "source": [
    "## Top Viewed Posts"
   ]
  },
  {
   "cell_type": "code",
   "execution_count": 4,
   "metadata": {
    "collapsed": true
   },
   "outputs": [],
   "source": [
    "# time constraints\n",
    "time_constraints = {\n",
    "    '$gte': dt.datetime.now() - dt.timedelta(days=8),\n",
    "}\n",
    "conditions = {\n",
    "    'created': time_constraints,\n",
    "#     'net_rshares': {'$gt': 0},\n",
    "#     'author_reputation': {'$gt': 0},\n",
    "    'net_votes': {'$gt': 100},\n",
    "    'children': {'$gt': 3},\n",
    "}\n",
    "projection = {\n",
    "    '_id': 0,\n",
    "    'identifier': 1,\n",
    "    'net_votes': 1,\n",
    "    'net_rshares': 1,\n",
    "    'author_reputation': 1,\n",
    "    'title': 1,\n",
    "    'author': 1,\n",
    "    'pending_payout_value': 1,\n",
    "    'total_payout_value': 1,\n",
    "}\n",
    "posts = list(db['Posts'].find(conditions, projection=projection))"
   ]
  },
  {
   "cell_type": "code",
   "execution_count": 5,
   "metadata": {
    "collapsed": true
   },
   "outputs": [],
   "source": [
    "def filter_spam(post):\n",
    "    if int(post['net_rshares']) < 0 or int(post['author_reputation']) < 0:\n",
    "        return False\n",
    "    return True"
   ]
  },
  {
   "cell_type": "code",
   "execution_count": 6,
   "metadata": {
    "collapsed": true
   },
   "outputs": [],
   "source": [
    "posts = list(filter(filter_spam, posts))"
   ]
  },
  {
   "cell_type": "code",
   "execution_count": 7,
   "metadata": {},
   "outputs": [
    {
     "data": {
      "text/plain": [
       "2476"
      ]
     },
     "execution_count": 7,
     "metadata": {},
     "output_type": "execute_result"
    }
   ],
   "source": [
    "len(posts)"
   ]
  },
  {
   "cell_type": "code",
   "execution_count": 8,
   "metadata": {
    "collapsed": true
   },
   "outputs": [],
   "source": [
    "# posts2 = []\n",
    "# posts_gen = iter(posts)"
   ]
  },
  {
   "cell_type": "code",
   "execution_count": 9,
   "metadata": {
    "collapsed": true
   },
   "outputs": [],
   "source": [
    "# from contextlib import suppress\n",
    "# import time\n",
    "\n",
    "# for p in posts_gen:\n",
    "#     with suppress(Exception):\n",
    "#         views = get_views(p['identifier'])\n",
    "#         time.sleep(0.01)\n",
    "#         print(views)\n",
    "        \n",
    "#         posts2.append({\n",
    "#             **p,\n",
    "#             'views': views\n",
    "#         })\n",
    "        "
   ]
  },
  {
   "cell_type": "code",
   "execution_count": 10,
   "metadata": {},
   "outputs": [],
   "source": [
    "from funcy import silent\n",
    "posts2 = [{**x, 'views': silent(get_views)(x['identifier'])} for x in posts]"
   ]
  },
  {
   "cell_type": "code",
   "execution_count": 11,
   "metadata": {
    "collapsed": true
   },
   "outputs": [],
   "source": [
    "posts3 = [{\n",
    "    **x,\n",
    "    'pending_payout_value': x['pending_payout_value']['amount'],\n",
    "    'total_payout_value': x['total_payout_value']['amount'],\n",
    "} for x in posts2]"
   ]
  },
  {
   "cell_type": "code",
   "execution_count": 12,
   "metadata": {
    "collapsed": true
   },
   "outputs": [],
   "source": [
    "df = pd.DataFrame(posts3)"
   ]
  },
  {
   "cell_type": "code",
   "execution_count": 13,
   "metadata": {
    "collapsed": true
   },
   "outputs": [],
   "source": [
    "df2 = df[['author', 'title', 'net_votes', 'pending_payout_value', 'views']].dropna()\n",
    "df2['author'] = df2['author'].apply(lambda x: \"@%s\" % x)\n",
    "df2['views'] = df2['views'].apply(int)\n",
    "df2['title'] = df2['title'].apply(lambda x: x[:30])"
   ]
  },
  {
   "cell_type": "code",
   "execution_count": 16,
   "metadata": {},
   "outputs": [
    {
     "data": {
      "text/html": [
       "<div>\n",
       "<style>\n",
       "    .dataframe thead tr:only-child th {\n",
       "        text-align: right;\n",
       "    }\n",
       "\n",
       "    .dataframe thead th {\n",
       "        text-align: left;\n",
       "    }\n",
       "\n",
       "    .dataframe tbody tr th {\n",
       "        vertical-align: top;\n",
       "    }\n",
       "</style>\n",
       "<table border=\"1\" class=\"dataframe\">\n",
       "  <thead>\n",
       "    <tr style=\"text-align: right;\">\n",
       "      <th></th>\n",
       "      <th>author</th>\n",
       "      <th>title</th>\n",
       "      <th>net_votes</th>\n",
       "      <th>pending_payout_value</th>\n",
       "      <th>views</th>\n",
       "    </tr>\n",
       "  </thead>\n",
       "  <tbody>\n",
       "    <tr>\n",
       "      <th>1112</th>\n",
       "      <td>@kingscrown</td>\n",
       "      <td>PSA Freewallet and Jaxx Gettin</td>\n",
       "      <td>1427</td>\n",
       "      <td>2086.976</td>\n",
       "      <td>5057</td>\n",
       "    </tr>\n",
       "    <tr>\n",
       "      <th>2085</th>\n",
       "      <td>@eosio</td>\n",
       "      <td>Draft EOS Token Sale Smart Con</td>\n",
       "      <td>173</td>\n",
       "      <td>270.892</td>\n",
       "      <td>4779</td>\n",
       "    </tr>\n",
       "    <tr>\n",
       "      <th>1894</th>\n",
       "      <td>@ludorum</td>\n",
       "      <td># 정말 도움이 필요합니다. 저희 집에 불이 났습니다.</td>\n",
       "      <td>1209</td>\n",
       "      <td>4253.241</td>\n",
       "      <td>3955</td>\n",
       "    </tr>\n",
       "    <tr>\n",
       "      <th>656</th>\n",
       "      <td>@roelandp</td>\n",
       "      <td>SteemFest² Updates - Hotel(s)</td>\n",
       "      <td>1552</td>\n",
       "      <td>5474.683</td>\n",
       "      <td>3801</td>\n",
       "    </tr>\n",
       "    <tr>\n",
       "      <th>960</th>\n",
       "      <td>@grantcardone</td>\n",
       "      <td>When Will Cryptocurrency Repla</td>\n",
       "      <td>210</td>\n",
       "      <td>288.464</td>\n",
       "      <td>3460</td>\n",
       "    </tr>\n",
       "    <tr>\n",
       "      <th>1664</th>\n",
       "      <td>@razvanelulmarin</td>\n",
       "      <td>EOS ICO announced. What's gonn</td>\n",
       "      <td>542</td>\n",
       "      <td>1618.029</td>\n",
       "      <td>3414</td>\n",
       "    </tr>\n",
       "    <tr>\n",
       "      <th>817</th>\n",
       "      <td>@furion</td>\n",
       "      <td>Analyzing the crypto market wi</td>\n",
       "      <td>1136</td>\n",
       "      <td>1840.047</td>\n",
       "      <td>3196</td>\n",
       "    </tr>\n",
       "    <tr>\n",
       "      <th>1549</th>\n",
       "      <td>@jerrybanfield</td>\n",
       "      <td>$200 A Day Mining Ethereum or</td>\n",
       "      <td>549</td>\n",
       "      <td>251.302</td>\n",
       "      <td>3182</td>\n",
       "    </tr>\n",
       "    <tr>\n",
       "      <th>1163</th>\n",
       "      <td>@theywillkillyou</td>\n",
       "      <td>Transitioning From Full-Time Y</td>\n",
       "      <td>917</td>\n",
       "      <td>1864.176</td>\n",
       "      <td>2886</td>\n",
       "    </tr>\n",
       "    <tr>\n",
       "      <th>2424</th>\n",
       "      <td>@jrcornel</td>\n",
       "      <td>Dear Coinbase, I Forgive You</td>\n",
       "      <td>625</td>\n",
       "      <td>0.000</td>\n",
       "      <td>2864</td>\n",
       "    </tr>\n",
       "    <tr>\n",
       "      <th>1806</th>\n",
       "      <td>@kingscrown</td>\n",
       "      <td>Crazy things happening in Cryp</td>\n",
       "      <td>880</td>\n",
       "      <td>1453.710</td>\n",
       "      <td>2724</td>\n",
       "    </tr>\n",
       "    <tr>\n",
       "      <th>413</th>\n",
       "      <td>@kingscrown</td>\n",
       "      <td>IOTA - The Cryptocurrency That</td>\n",
       "      <td>1096</td>\n",
       "      <td>1728.440</td>\n",
       "      <td>2598</td>\n",
       "    </tr>\n",
       "    <tr>\n",
       "      <th>542</th>\n",
       "      <td>@allasyummyfood</td>\n",
       "      <td>INTRODUCING 8 NEW SOCIAL MEDIA</td>\n",
       "      <td>838</td>\n",
       "      <td>1741.495</td>\n",
       "      <td>2507</td>\n",
       "    </tr>\n",
       "    <tr>\n",
       "      <th>876</th>\n",
       "      <td>@jerrybanfield</td>\n",
       "      <td>Steem Video Ad #2 on Facebook</td>\n",
       "      <td>1242</td>\n",
       "      <td>1752.426</td>\n",
       "      <td>2501</td>\n",
       "    </tr>\n",
       "    <tr>\n",
       "      <th>1875</th>\n",
       "      <td>@trafalgar</td>\n",
       "      <td>Is The World Becoming More Vio</td>\n",
       "      <td>1036</td>\n",
       "      <td>2406.923</td>\n",
       "      <td>2455</td>\n",
       "    </tr>\n",
       "    <tr>\n",
       "      <th>766</th>\n",
       "      <td>@kingscrown</td>\n",
       "      <td>Bancor Protocol - Some Facts a</td>\n",
       "      <td>1146</td>\n",
       "      <td>1683.459</td>\n",
       "      <td>2417</td>\n",
       "    </tr>\n",
       "    <tr>\n",
       "      <th>1489</th>\n",
       "      <td>@timsaid</td>\n",
       "      <td>MyPictureSunday#8 - Testing my</td>\n",
       "      <td>1073</td>\n",
       "      <td>1740.261</td>\n",
       "      <td>2356</td>\n",
       "    </tr>\n",
       "    <tr>\n",
       "      <th>1862</th>\n",
       "      <td>@thecryptofiend</td>\n",
       "      <td>My Thoughts on the New Apple i</td>\n",
       "      <td>496</td>\n",
       "      <td>821.067</td>\n",
       "      <td>2309</td>\n",
       "    </tr>\n",
       "    <tr>\n",
       "      <th>331</th>\n",
       "      <td>@furion</td>\n",
       "      <td>Build yourself a Trezor</td>\n",
       "      <td>1042</td>\n",
       "      <td>1972.835</td>\n",
       "      <td>2271</td>\n",
       "    </tr>\n",
       "    <tr>\n",
       "      <th>2332</th>\n",
       "      <td>@someguy123</td>\n",
       "      <td>Uber now accepts Litecoin (but</td>\n",
       "      <td>293</td>\n",
       "      <td>0.000</td>\n",
       "      <td>2104</td>\n",
       "    </tr>\n",
       "    <tr>\n",
       "      <th>193</th>\n",
       "      <td>@maa</td>\n",
       "      <td>비트코인이 망하지 않을 이유 10가지(10 reason</td>\n",
       "      <td>216</td>\n",
       "      <td>218.765</td>\n",
       "      <td>1983</td>\n",
       "    </tr>\n",
       "    <tr>\n",
       "      <th>627</th>\n",
       "      <td>@oldstone</td>\n",
       "      <td>EEA, 중앙권력을 파괴하기 위한 트로이 목마인가 아니</td>\n",
       "      <td>177</td>\n",
       "      <td>256.997</td>\n",
       "      <td>1889</td>\n",
       "    </tr>\n",
       "    <tr>\n",
       "      <th>2455</th>\n",
       "      <td>@jerrybanfield</td>\n",
       "      <td>My Top 10 Cryptocurrency Fails</td>\n",
       "      <td>546</td>\n",
       "      <td>0.000</td>\n",
       "      <td>1864</td>\n",
       "    </tr>\n",
       "    <tr>\n",
       "      <th>1175</th>\n",
       "      <td>@joseph</td>\n",
       "      <td>1897 - Bitcoin Down - Coinbase</td>\n",
       "      <td>863</td>\n",
       "      <td>1350.059</td>\n",
       "      <td>1843</td>\n",
       "    </tr>\n",
       "    <tr>\n",
       "      <th>1310</th>\n",
       "      <td>@trafalgar</td>\n",
       "      <td>How Effective is Our Prison Sy</td>\n",
       "      <td>1160</td>\n",
       "      <td>2136.411</td>\n",
       "      <td>1829</td>\n",
       "    </tr>\n",
       "  </tbody>\n",
       "</table>\n",
       "</div>"
      ],
      "text/plain": [
       "                author                           title  net_votes  \\\n",
       "1112       @kingscrown  PSA Freewallet and Jaxx Gettin       1427   \n",
       "2085            @eosio  Draft EOS Token Sale Smart Con        173   \n",
       "1894          @ludorum  # 정말 도움이 필요합니다. 저희 집에 불이 났습니다.       1209   \n",
       "656          @roelandp  SteemFest² Updates - Hotel(s)        1552   \n",
       "960      @grantcardone  When Will Cryptocurrency Repla        210   \n",
       "1664  @razvanelulmarin  EOS ICO announced. What's gonn        542   \n",
       "817            @furion  Analyzing the crypto market wi       1136   \n",
       "1549    @jerrybanfield  $200 A Day Mining Ethereum or         549   \n",
       "1163  @theywillkillyou  Transitioning From Full-Time Y        917   \n",
       "2424         @jrcornel    Dear Coinbase, I Forgive You        625   \n",
       "1806       @kingscrown  Crazy things happening in Cryp        880   \n",
       "413        @kingscrown  IOTA - The Cryptocurrency That       1096   \n",
       "542    @allasyummyfood  INTRODUCING 8 NEW SOCIAL MEDIA        838   \n",
       "876     @jerrybanfield  Steem Video Ad #2 on Facebook        1242   \n",
       "1875        @trafalgar  Is The World Becoming More Vio       1036   \n",
       "766        @kingscrown  Bancor Protocol - Some Facts a       1146   \n",
       "1489          @timsaid  MyPictureSunday#8 - Testing my       1073   \n",
       "1862   @thecryptofiend  My Thoughts on the New Apple i        496   \n",
       "331            @furion         Build yourself a Trezor       1042   \n",
       "2332       @someguy123  Uber now accepts Litecoin (but        293   \n",
       "193               @maa  비트코인이 망하지 않을 이유 10가지(10 reason        216   \n",
       "627          @oldstone  EEA, 중앙권력을 파괴하기 위한 트로이 목마인가 아니        177   \n",
       "2455    @jerrybanfield  My Top 10 Cryptocurrency Fails        546   \n",
       "1175           @joseph  1897 - Bitcoin Down - Coinbase        863   \n",
       "1310        @trafalgar  How Effective is Our Prison Sy       1160   \n",
       "\n",
       "      pending_payout_value  views  \n",
       "1112              2086.976   5057  \n",
       "2085               270.892   4779  \n",
       "1894              4253.241   3955  \n",
       "656               5474.683   3801  \n",
       "960                288.464   3460  \n",
       "1664              1618.029   3414  \n",
       "817               1840.047   3196  \n",
       "1549               251.302   3182  \n",
       "1163              1864.176   2886  \n",
       "2424                 0.000   2864  \n",
       "1806              1453.710   2724  \n",
       "413               1728.440   2598  \n",
       "542               1741.495   2507  \n",
       "876               1752.426   2501  \n",
       "1875              2406.923   2455  \n",
       "766               1683.459   2417  \n",
       "1489              1740.261   2356  \n",
       "1862               821.067   2309  \n",
       "331               1972.835   2271  \n",
       "2332                 0.000   2104  \n",
       "193                218.765   1983  \n",
       "627                256.997   1889  \n",
       "2455                 0.000   1864  \n",
       "1175              1350.059   1843  \n",
       "1310              2136.411   1829  "
      ]
     },
     "execution_count": 16,
     "metadata": {},
     "output_type": "execute_result"
    }
   ],
   "source": [
    "df3 = df2.sort_values('views', ascending=False).head(25)\n",
    "df3.head(30)"
   ]
  },
  {
   "cell_type": "code",
   "execution_count": 15,
   "metadata": {
    "scrolled": true
   },
   "outputs": [
    {
     "name": "stdout",
     "output_type": "stream",
     "text": [
      "<table>\n",
      "<thead>\n",
      "<tr><th>author          </th><th>title                                             </th><th style=\"text-align: right;\">  net_votes</th><th style=\"text-align: right;\">  pending_payout_value</th><th style=\"text-align: right;\">  views</th></tr>\n",
      "</thead>\n",
      "<tbody>\n",
      "<tr><td>@kingscrown     </td><td>PSA Freewallet and Jaxx Gettin                    </td><td style=\"text-align: right;\">       1427</td><td style=\"text-align: right;\">              2086.98 </td><td style=\"text-align: right;\">   5057</td></tr>\n",
      "<tr><td>@eosio          </td><td>Draft EOS Token Sale Smart Con                    </td><td style=\"text-align: right;\">        173</td><td style=\"text-align: right;\">               270.892</td><td style=\"text-align: right;\">   4779</td></tr>\n",
      "<tr><td>@ludorum        </td><td># 정말 도움이 필요합니다. 저희 집에 불이 났습니다.</td><td style=\"text-align: right;\">       1209</td><td style=\"text-align: right;\">              4253.24 </td><td style=\"text-align: right;\">   3955</td></tr>\n",
      "<tr><td>@roelandp       </td><td>SteemFest² Updates - Hotel(s)                     </td><td style=\"text-align: right;\">       1552</td><td style=\"text-align: right;\">              5474.68 </td><td style=\"text-align: right;\">   3801</td></tr>\n",
      "<tr><td>@grantcardone   </td><td>When Will Cryptocurrency Repla                    </td><td style=\"text-align: right;\">        210</td><td style=\"text-align: right;\">               288.464</td><td style=\"text-align: right;\">   3460</td></tr>\n",
      "<tr><td>@razvanelulmarin</td><td>EOS ICO announced. What's gonn                    </td><td style=\"text-align: right;\">        542</td><td style=\"text-align: right;\">              1618.03 </td><td style=\"text-align: right;\">   3414</td></tr>\n",
      "<tr><td>@furion         </td><td>Analyzing the crypto market wi                    </td><td style=\"text-align: right;\">       1136</td><td style=\"text-align: right;\">              1840.05 </td><td style=\"text-align: right;\">   3196</td></tr>\n",
      "<tr><td>@jerrybanfield  </td><td>$200 A Day Mining Ethereum or                     </td><td style=\"text-align: right;\">        549</td><td style=\"text-align: right;\">               251.302</td><td style=\"text-align: right;\">   3182</td></tr>\n",
      "<tr><td>@theywillkillyou</td><td>Transitioning From Full-Time Y                    </td><td style=\"text-align: right;\">        917</td><td style=\"text-align: right;\">              1864.18 </td><td style=\"text-align: right;\">   2886</td></tr>\n",
      "<tr><td>@jrcornel       </td><td>Dear Coinbase, I Forgive You                      </td><td style=\"text-align: right;\">        625</td><td style=\"text-align: right;\">                 0    </td><td style=\"text-align: right;\">   2864</td></tr>\n",
      "<tr><td>@kingscrown     </td><td>Crazy things happening in Cryp                    </td><td style=\"text-align: right;\">        880</td><td style=\"text-align: right;\">              1453.71 </td><td style=\"text-align: right;\">   2724</td></tr>\n",
      "<tr><td>@kingscrown     </td><td>IOTA - The Cryptocurrency That                    </td><td style=\"text-align: right;\">       1096</td><td style=\"text-align: right;\">              1728.44 </td><td style=\"text-align: right;\">   2598</td></tr>\n",
      "<tr><td>@allasyummyfood </td><td>INTRODUCING 8 NEW SOCIAL MEDIA                    </td><td style=\"text-align: right;\">        838</td><td style=\"text-align: right;\">              1741.49 </td><td style=\"text-align: right;\">   2507</td></tr>\n",
      "<tr><td>@jerrybanfield  </td><td>Steem Video Ad #2 on Facebook                     </td><td style=\"text-align: right;\">       1242</td><td style=\"text-align: right;\">              1752.43 </td><td style=\"text-align: right;\">   2501</td></tr>\n",
      "<tr><td>@trafalgar      </td><td>Is The World Becoming More Vio                    </td><td style=\"text-align: right;\">       1036</td><td style=\"text-align: right;\">              2406.92 </td><td style=\"text-align: right;\">   2455</td></tr>\n",
      "<tr><td>@kingscrown     </td><td>Bancor Protocol - Some Facts a                    </td><td style=\"text-align: right;\">       1146</td><td style=\"text-align: right;\">              1683.46 </td><td style=\"text-align: right;\">   2417</td></tr>\n",
      "<tr><td>@timsaid        </td><td>MyPictureSunday#8 - Testing my                    </td><td style=\"text-align: right;\">       1073</td><td style=\"text-align: right;\">              1740.26 </td><td style=\"text-align: right;\">   2356</td></tr>\n",
      "<tr><td>@thecryptofiend </td><td>My Thoughts on the New Apple i                    </td><td style=\"text-align: right;\">        496</td><td style=\"text-align: right;\">               821.067</td><td style=\"text-align: right;\">   2309</td></tr>\n",
      "<tr><td>@furion         </td><td>Build yourself a Trezor                           </td><td style=\"text-align: right;\">       1042</td><td style=\"text-align: right;\">              1972.84 </td><td style=\"text-align: right;\">   2271</td></tr>\n",
      "<tr><td>@someguy123     </td><td>Uber now accepts Litecoin (but                    </td><td style=\"text-align: right;\">        293</td><td style=\"text-align: right;\">                 0    </td><td style=\"text-align: right;\">   2104</td></tr>\n",
      "<tr><td>@maa            </td><td>비트코인이 망하지 않을 이유 10가지(10 reason      </td><td style=\"text-align: right;\">        216</td><td style=\"text-align: right;\">               218.765</td><td style=\"text-align: right;\">   1983</td></tr>\n",
      "<tr><td>@oldstone       </td><td>EEA, 중앙권력을 파괴하기 위한 트로이 목마인가 아니</td><td style=\"text-align: right;\">        177</td><td style=\"text-align: right;\">               256.997</td><td style=\"text-align: right;\">   1889</td></tr>\n",
      "<tr><td>@jerrybanfield  </td><td>My Top 10 Cryptocurrency Fails                    </td><td style=\"text-align: right;\">        546</td><td style=\"text-align: right;\">                 0    </td><td style=\"text-align: right;\">   1864</td></tr>\n",
      "<tr><td>@joseph         </td><td>1897 - Bitcoin Down - Coinbase                    </td><td style=\"text-align: right;\">        863</td><td style=\"text-align: right;\">              1350.06 </td><td style=\"text-align: right;\">   1843</td></tr>\n",
      "<tr><td>@trafalgar      </td><td>How Effective is Our Prison Sy                    </td><td style=\"text-align: right;\">       1160</td><td style=\"text-align: right;\">              2136.41 </td><td style=\"text-align: right;\">   1829</td></tr>\n",
      "</tbody>\n",
      "</table>\n"
     ]
    }
   ],
   "source": [
    "from tabulate import tabulate\n",
    "print(tabulate(df3.values.tolist(), df3.columns.tolist(), tablefmt=\"html\"))"
   ]
  },
  {
   "cell_type": "code",
   "execution_count": null,
   "metadata": {
    "collapsed": true
   },
   "outputs": [],
   "source": []
  }
 ],
 "metadata": {
  "kernelspec": {
   "display_name": "Python 3",
   "language": "python",
   "name": "python3"
  },
  "language_info": {
   "codemirror_mode": {
    "name": "ipython",
    "version": 3
   },
   "file_extension": ".py",
   "mimetype": "text/x-python",
   "name": "python",
   "nbconvert_exporter": "python",
   "pygments_lexer": "ipython3",
   "version": "3.6.1"
  }
 },
 "nbformat": 4,
 "nbformat_minor": 2
}
