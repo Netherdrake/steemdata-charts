{
 "cells": [
  {
   "cell_type": "code",
   "execution_count": 1,
   "metadata": {
    "collapsed": true
   },
   "outputs": [],
   "source": [
    "import datetime as dt\n",
    "from steemdata import SteemData\n",
    "\n",
    "import pandas as pd\n",
    "import numpy as np\n",
    "\n",
    "import plotly.plotly as py\n",
    "import plotly.graph_objs as go\n",
    "import cufflinks as cf\n",
    "    \n",
    "# helpers\n",
    "from toolz import keyfilter\n",
    "\n",
    "def keep(d, whitelist):\n",
    "    return keyfilter(lambda k: k in whitelist, d)\n",
    "\n",
    "def omit(d, blacklist):\n",
    "    return keyfilter(lambda k: k not in blacklist, d)"
   ]
  },
  {
   "cell_type": "code",
   "execution_count": 2,
   "metadata": {
    "collapsed": true
   },
   "outputs": [],
   "source": [
    "db = SteemData().db"
   ]
  },
  {
   "cell_type": "code",
   "execution_count": null,
   "metadata": {
    "collapsed": true
   },
   "outputs": [],
   "source": []
  },
  {
   "cell_type": "markdown",
   "metadata": {},
   "source": [
    "## Methods"
   ]
  },
  {
   "cell_type": "code",
   "execution_count": 3,
   "metadata": {
    "collapsed": true
   },
   "outputs": [],
   "source": [
    "import json\n",
    "import requests as rs\n",
    "from steem.post import Post\n",
    "\n",
    "def get_csrf(url):\n",
    "    resp = rs.get(url)\n",
    "\n",
    "    if resp.status_code == 200:\n",
    "        body = resp.text\n",
    "        start_index = body.find('\"csrf\":\"')\n",
    "        csrf = body[start_index + 8:start_index + 44]\n",
    "        return csrf, resp.cookies\n",
    "\n",
    "def get_view_count(url_partial, csrf, cookies):\n",
    "    payload = {\n",
    "        \"csrf\": csrf,\n",
    "        \"page\": url_partial,\n",
    "        \"ref\": \"\",\n",
    "    }\n",
    "\n",
    "    url = 'https://steemit.com/api/v1/page_view'\n",
    "    resp = rs.post(url, json=payload, cookies=cookies)\n",
    "\n",
    "    if resp.status_code == 200 and resp.text:\n",
    "        return json.loads(resp.text)\n",
    "    return {}\n",
    "\n",
    "def get_views(identifier):\n",
    "    p = Post(identifier)\n",
    "    csrf, cookies = get_csrf('https://steemit.com' + p.url)\n",
    "    return get_view_count(p.url, csrf, cookies).get('views', -1)"
   ]
  },
  {
   "cell_type": "code",
   "execution_count": null,
   "metadata": {
    "collapsed": true
   },
   "outputs": [],
   "source": []
  },
  {
   "cell_type": "markdown",
   "metadata": {},
   "source": [
    "## Top Viewed Posts"
   ]
  },
  {
   "cell_type": "code",
   "execution_count": 4,
   "metadata": {
    "collapsed": true
   },
   "outputs": [],
   "source": [
    "# time constraints\n",
    "time_constraints = {\n",
    "    '$gte': dt.datetime.now() - dt.timedelta(days=8),\n",
    "}\n",
    "conditions = {\n",
    "    'created': time_constraints,\n",
    "#     'net_rshares': {'$gt': 0},\n",
    "#     'author_reputation': {'$gt': 0},\n",
    "    'net_votes': {'$gt': 100},\n",
    "    'children': {'$gt': 3},\n",
    "}\n",
    "projection = {\n",
    "    '_id': 0,\n",
    "    'identifier': 1,\n",
    "    'net_votes': 1,\n",
    "    'net_rshares': 1,\n",
    "    'author_reputation': 1,\n",
    "    'title': 1,\n",
    "    'author': 1,\n",
    "    'pending_payout_value': 1,\n",
    "    'total_payout_value': 1,\n",
    "}\n",
    "posts = list(db['Posts'].find(conditions, projection=projection))"
   ]
  },
  {
   "cell_type": "code",
   "execution_count": 5,
   "metadata": {
    "collapsed": true
   },
   "outputs": [],
   "source": [
    "def filter_spam(post):\n",
    "    if int(post['net_rshares']) < 0 or int(post['author_reputation']) < 0:\n",
    "        return False\n",
    "    return True"
   ]
  },
  {
   "cell_type": "code",
   "execution_count": 6,
   "metadata": {
    "collapsed": true
   },
   "outputs": [],
   "source": [
    "posts = list(filter(filter_spam, posts))"
   ]
  },
  {
   "cell_type": "code",
   "execution_count": 7,
   "metadata": {},
   "outputs": [
    {
     "data": {
      "text/plain": [
       "2476"
      ]
     },
     "execution_count": 7,
     "metadata": {},
     "output_type": "execute_result"
    }
   ],
   "source": [
    "len(posts)"
   ]
  },
  {
   "cell_type": "code",
   "execution_count": 8,
   "metadata": {
    "collapsed": true
   },
   "outputs": [],
   "source": [
    "# posts2 = []\n",
    "# posts_gen = iter(posts)"
   ]
  },
  {
   "cell_type": "code",
   "execution_count": null,
   "metadata": {
    "collapsed": true
   },
   "outputs": [],
   "source": [
    "# from contextlib import suppress\n",
    "# import time\n",
    "\n",
    "# for p in posts_gen:\n",
    "#     with suppress(Exception):\n",
    "#         views = get_views(p['identifier'])\n",
    "#         time.sleep(0.01)\n",
    "#         print(views)\n",
    "        \n",
    "#         posts2.append({\n",
    "#             **p,\n",
    "#             'views': views\n",
    "#         })\n",
    "        "
   ]
  },
  {
   "cell_type": "code",
   "execution_count": null,
   "metadata": {},
   "outputs": [],
   "source": [
    "from funcy import silent\n",
    "posts2 = [{**x, 'views': silent(get_views)(x['identifier'])} for x in posts]"
   ]
  },
  {
   "cell_type": "code",
   "execution_count": null,
   "metadata": {
    "collapsed": true
   },
   "outputs": [],
   "source": [
    "posts3 = [{\n",
    "    **x,\n",
    "    'pending_payout_value': x['pending_payout_value']['amount'],\n",
    "    'total_payout_value': x['total_payout_value']['amount'],\n",
    "} for x in posts2]"
   ]
  },
  {
   "cell_type": "code",
   "execution_count": null,
   "metadata": {
    "collapsed": true
   },
   "outputs": [],
   "source": [
    "df = pd.DataFrame(posts3)"
   ]
  },
  {
   "cell_type": "code",
   "execution_count": null,
   "metadata": {
    "collapsed": true
   },
   "outputs": [],
   "source": [
    "df2 = df[['author', 'title', 'net_votes', 'pending_payout_value', 'views']].dropna()\n",
    "df2['author'] = df2['author'].apply(lambda x: \"@%s\" % x)\n",
    "df2['views'] = df2['views'].apply(int)\n",
    "df2['title'] = df2['title'].apply(lambda x: x[:30])"
   ]
  },
  {
   "cell_type": "code",
   "execution_count": null,
   "metadata": {},
   "outputs": [],
   "source": [
    "df3 = df2.sort_values('views', ascending=False).head(25)\n",
    "df3.head(5)"
   ]
  },
  {
   "cell_type": "code",
   "execution_count": null,
   "metadata": {
    "scrolled": true
   },
   "outputs": [],
   "source": [
    "from tabulate import tabulate\n",
    "print(tabulate(df3.values.tolist(), df3.columns.tolist(), tablefmt=\"html\"))"
   ]
  },
  {
   "cell_type": "code",
   "execution_count": null,
   "metadata": {
    "collapsed": true
   },
   "outputs": [],
   "source": []
  }
 ],
 "metadata": {
  "kernelspec": {
   "display_name": "Python 3",
   "language": "python",
   "name": "python3"
  },
  "language_info": {
   "codemirror_mode": {
    "name": "ipython",
    "version": 3
   },
   "file_extension": ".py",
   "mimetype": "text/x-python",
   "name": "python",
   "nbconvert_exporter": "python",
   "pygments_lexer": "ipython3",
   "version": "3.6.1"
  }
 },
 "nbformat": 4,
 "nbformat_minor": 2
}
