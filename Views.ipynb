{
 "cells": [
  {
   "cell_type": "code",
   "execution_count": 56,
   "metadata": {
    "collapsed": true
   },
   "outputs": [],
   "source": [
    "import datetime as dt\n",
    "from steemdata import SteemData\n",
    "\n",
    "import pandas as pd\n",
    "import numpy as np\n",
    "\n",
    "try:\n",
    "    import plotly.plotly as py\n",
    "    import plotly.graph_objs as go\n",
    "    import cufflinks as cf\n",
    "except:\n",
    "    !pip install plotly\n",
    "    !pip install cufflinks\n",
    "    \n",
    "# helpers\n",
    "from toolz import keyfilter\n",
    "\n",
    "def keep(d, whitelist):\n",
    "    return keyfilter(lambda k: k in whitelist, d)\n",
    "\n",
    "def omit(d, blacklist):\n",
    "    return keyfilter(lambda k: k not in blacklist, d)"
   ]
  },
  {
   "cell_type": "code",
   "execution_count": 57,
   "metadata": {
    "collapsed": true
   },
   "outputs": [],
   "source": [
    "db = SteemData().db"
   ]
  },
  {
   "cell_type": "code",
   "execution_count": null,
   "metadata": {
    "collapsed": true
   },
   "outputs": [],
   "source": []
  },
  {
   "cell_type": "markdown",
   "metadata": {},
   "source": [
    "## Methods"
   ]
  },
  {
   "cell_type": "code",
   "execution_count": 58,
   "metadata": {
    "collapsed": true
   },
   "outputs": [],
   "source": [
    "import json\n",
    "import requests as rs\n",
    "from steem.post import Post\n",
    "\n",
    "def get_csrf(url):\n",
    "    resp = rs.get(url)\n",
    "\n",
    "    if resp.status_code == 200:\n",
    "        body = resp.text\n",
    "        start_index = body.find('\"csrf\":\"')\n",
    "        csrf = body[start_index + 8:start_index + 44]\n",
    "        return csrf, resp.cookies\n",
    "\n",
    "def get_view_count(url_partial, csrf, cookies):\n",
    "    payload = {\n",
    "        \"csrf\": csrf,\n",
    "        \"page\": url_partial,\n",
    "        \"ref\": \"\",\n",
    "    }\n",
    "\n",
    "    url = 'https://steemit.com/api/v1/page_view'\n",
    "    resp = rs.post(url, json=payload, cookies=cookies)\n",
    "\n",
    "    if resp.status_code == 200 and resp.text:\n",
    "        return json.loads(resp.text)\n",
    "    return {}\n",
    "\n",
    "def get_views(identifier):\n",
    "    p = Post(identifier)\n",
    "    csrf, cookies = get_csrf('https://steemit.com' + p.url)\n",
    "    return get_view_count(p.url, csrf, cookies).get('views', -1)"
   ]
  },
  {
   "cell_type": "code",
   "execution_count": null,
   "metadata": {
    "collapsed": true
   },
   "outputs": [],
   "source": []
  },
  {
   "cell_type": "markdown",
   "metadata": {},
   "source": [
    "## Top Viewed Posts"
   ]
  },
  {
   "cell_type": "code",
   "execution_count": 60,
   "metadata": {
    "collapsed": true
   },
   "outputs": [],
   "source": [
    "# time constraints\n",
    "time_constraints = {\n",
    "    '$gte': dt.datetime.now() - dt.timedelta(days=8),\n",
    "}\n",
    "conditions = {\n",
    "    'created': time_constraints,\n",
    "#     'net_rshares': {'$gt': 0},\n",
    "#     'author_reputation': {'$gt': 0},\n",
    "    'net_votes': {'$gt': 100},\n",
    "    'children': {'$gt': 3},\n",
    "}\n",
    "projection = {\n",
    "    '_id': 0,\n",
    "    'identifier': 1,\n",
    "    'net_votes': 1,\n",
    "    'net_rshares': 1,\n",
    "    'author_reputation': 1,\n",
    "    'title': 1,\n",
    "    'author': 1,\n",
    "    'pending_payout_value': 1,\n",
    "    'total_payout_value': 1,\n",
    "}\n",
    "posts = list(db['Posts'].find(conditions, projection=projection))"
   ]
  },
  {
   "cell_type": "code",
   "execution_count": 61,
   "metadata": {
    "collapsed": true
   },
   "outputs": [],
   "source": [
    "def filter_spam(post):\n",
    "    if int(post['net_rshares']) < 0 or int(post['author_reputation']) < 0:\n",
    "        return False\n",
    "    return True"
   ]
  },
  {
   "cell_type": "code",
   "execution_count": 62,
   "metadata": {
    "collapsed": true
   },
   "outputs": [],
   "source": [
    "posts = list(filter(filter_spam, posts))"
   ]
  },
  {
   "cell_type": "code",
   "execution_count": 63,
   "metadata": {},
   "outputs": [
    {
     "data": {
      "text/plain": [
       "2140"
      ]
     },
     "execution_count": 63,
     "metadata": {},
     "output_type": "execute_result"
    }
   ],
   "source": [
    "len(posts)"
   ]
  },
  {
   "cell_type": "code",
   "execution_count": 79,
   "metadata": {
    "collapsed": true
   },
   "outputs": [],
   "source": [
    "# posts2 = []\n",
    "# posts_gen = iter(posts)"
   ]
  },
  {
   "cell_type": "code",
   "execution_count": 80,
   "metadata": {},
   "outputs": [],
   "source": [
    "# from contextlib import suppress\n",
    "# import time\n",
    "\n",
    "# for p in posts_gen:\n",
    "#     with suppress(Exception):\n",
    "#         views = get_views(p['identifier'])\n",
    "#         time.sleep(0.01)\n",
    "#         print(views)\n",
    "        \n",
    "#         posts2.append({\n",
    "#             **p,\n",
    "#             'views': views\n",
    "#         })\n",
    "        "
   ]
  },
  {
   "cell_type": "code",
   "execution_count": 65,
   "metadata": {},
   "outputs": [
    {
     "name": "stderr",
     "output_type": "stream",
     "text": [
      "INFO:steembase.http_client:non 200 response:502\n",
      "INFO:steembase.http_client:failed to load response\n",
      "INFO:steembase.http_client:non 200 response:502\n",
      "INFO:steembase.http_client:failed to load response\n",
      "INFO:steembase.http_client:non 200 response:502\n",
      "INFO:steembase.http_client:failed to load response\n",
      "INFO:steembase.http_client:non 200 response:502\n",
      "INFO:steembase.http_client:failed to load response\n",
      "INFO:steembase.http_client:non 200 response:502\n",
      "INFO:steembase.http_client:failed to load response\n",
      "INFO:steembase.http_client:non 200 response:502\n",
      "INFO:steembase.http_client:failed to load response\n"
     ]
    },
    {
     "ename": "KeyboardInterrupt",
     "evalue": "",
     "output_type": "error",
     "traceback": [
      "\u001b[0;31m---------------------------------------------------------------------------\u001b[0m",
      "\u001b[0;31mKeyboardInterrupt\u001b[0m                         Traceback (most recent call last)",
      "\u001b[0;32m<ipython-input-65-554f2782ffa8>\u001b[0m in \u001b[0;36m<module>\u001b[0;34m()\u001b[0m\n\u001b[1;32m      1\u001b[0m \u001b[0;32mfrom\u001b[0m \u001b[0mfuncy\u001b[0m \u001b[0;32mimport\u001b[0m \u001b[0msilent\u001b[0m\u001b[0;34m\u001b[0m\u001b[0m\n\u001b[0;32m----> 2\u001b[0;31m \u001b[0mposts2\u001b[0m \u001b[0;34m=\u001b[0m \u001b[0;34m[\u001b[0m\u001b[0;34m{\u001b[0m\u001b[0;34m**\u001b[0m\u001b[0mx\u001b[0m\u001b[0;34m,\u001b[0m \u001b[0;34m'views'\u001b[0m\u001b[0;34m:\u001b[0m \u001b[0msilent\u001b[0m\u001b[0;34m(\u001b[0m\u001b[0mget_views\u001b[0m\u001b[0;34m)\u001b[0m\u001b[0;34m(\u001b[0m\u001b[0mx\u001b[0m\u001b[0;34m[\u001b[0m\u001b[0;34m'identifier'\u001b[0m\u001b[0;34m]\u001b[0m\u001b[0;34m)\u001b[0m\u001b[0;34m}\u001b[0m \u001b[0;32mfor\u001b[0m \u001b[0mx\u001b[0m \u001b[0;32min\u001b[0m \u001b[0mposts\u001b[0m\u001b[0;34m]\u001b[0m\u001b[0;34m\u001b[0m\u001b[0m\n\u001b[0m",
      "\u001b[0;32m<ipython-input-65-554f2782ffa8>\u001b[0m in \u001b[0;36m<listcomp>\u001b[0;34m(.0)\u001b[0m\n\u001b[1;32m      1\u001b[0m \u001b[0;32mfrom\u001b[0m \u001b[0mfuncy\u001b[0m \u001b[0;32mimport\u001b[0m \u001b[0msilent\u001b[0m\u001b[0;34m\u001b[0m\u001b[0m\n\u001b[0;32m----> 2\u001b[0;31m \u001b[0mposts2\u001b[0m \u001b[0;34m=\u001b[0m \u001b[0;34m[\u001b[0m\u001b[0;34m{\u001b[0m\u001b[0;34m**\u001b[0m\u001b[0mx\u001b[0m\u001b[0;34m,\u001b[0m \u001b[0;34m'views'\u001b[0m\u001b[0;34m:\u001b[0m \u001b[0msilent\u001b[0m\u001b[0;34m(\u001b[0m\u001b[0mget_views\u001b[0m\u001b[0;34m)\u001b[0m\u001b[0;34m(\u001b[0m\u001b[0mx\u001b[0m\u001b[0;34m[\u001b[0m\u001b[0;34m'identifier'\u001b[0m\u001b[0;34m]\u001b[0m\u001b[0;34m)\u001b[0m\u001b[0;34m}\u001b[0m \u001b[0;32mfor\u001b[0m \u001b[0mx\u001b[0m \u001b[0;32min\u001b[0m \u001b[0mposts\u001b[0m\u001b[0;34m]\u001b[0m\u001b[0;34m\u001b[0m\u001b[0m\n\u001b[0m",
      "\u001b[0;32m/Users/user/anaconda/lib/python3.6/site-packages/funcy/flow.py\u001b[0m in \u001b[0;36mwrapper\u001b[0;34m(*args, **kwargs)\u001b[0m\n\u001b[1;32m     32\u001b[0m         \u001b[0;32mdef\u001b[0m \u001b[0mwrapper\u001b[0m\u001b[0;34m(\u001b[0m\u001b[0;34m*\u001b[0m\u001b[0margs\u001b[0m\u001b[0;34m,\u001b[0m \u001b[0;34m**\u001b[0m\u001b[0mkwargs\u001b[0m\u001b[0;34m)\u001b[0m\u001b[0;34m:\u001b[0m\u001b[0;34m\u001b[0m\u001b[0m\n\u001b[1;32m     33\u001b[0m             \u001b[0;32mtry\u001b[0m\u001b[0;34m:\u001b[0m\u001b[0;34m\u001b[0m\u001b[0m\n\u001b[0;32m---> 34\u001b[0;31m                 \u001b[0;32mreturn\u001b[0m \u001b[0mfunc\u001b[0m\u001b[0;34m(\u001b[0m\u001b[0;34m*\u001b[0m\u001b[0margs\u001b[0m\u001b[0;34m,\u001b[0m \u001b[0;34m**\u001b[0m\u001b[0mkwargs\u001b[0m\u001b[0;34m)\u001b[0m\u001b[0;34m\u001b[0m\u001b[0m\n\u001b[0m\u001b[1;32m     35\u001b[0m             \u001b[0;32mexcept\u001b[0m \u001b[0merrors\u001b[0m\u001b[0;34m:\u001b[0m\u001b[0;34m\u001b[0m\u001b[0m\n\u001b[1;32m     36\u001b[0m                 \u001b[0;32mreturn\u001b[0m \u001b[0mdefault\u001b[0m\u001b[0;34m\u001b[0m\u001b[0m\n",
      "\u001b[0;32m<ipython-input-58-d82e687ef6bf>\u001b[0m in \u001b[0;36mget_views\u001b[0;34m(identifier)\u001b[0m\n\u001b[1;32m     27\u001b[0m \u001b[0;34m\u001b[0m\u001b[0m\n\u001b[1;32m     28\u001b[0m \u001b[0;32mdef\u001b[0m \u001b[0mget_views\u001b[0m\u001b[0;34m(\u001b[0m\u001b[0midentifier\u001b[0m\u001b[0;34m)\u001b[0m\u001b[0;34m:\u001b[0m\u001b[0;34m\u001b[0m\u001b[0m\n\u001b[0;32m---> 29\u001b[0;31m     \u001b[0mp\u001b[0m \u001b[0;34m=\u001b[0m \u001b[0mPost\u001b[0m\u001b[0;34m(\u001b[0m\u001b[0midentifier\u001b[0m\u001b[0;34m)\u001b[0m\u001b[0;34m\u001b[0m\u001b[0m\n\u001b[0m\u001b[1;32m     30\u001b[0m     \u001b[0mcsrf\u001b[0m\u001b[0;34m,\u001b[0m \u001b[0mcookies\u001b[0m \u001b[0;34m=\u001b[0m \u001b[0mget_csrf\u001b[0m\u001b[0;34m(\u001b[0m\u001b[0;34m'https://steemit.com'\u001b[0m \u001b[0;34m+\u001b[0m \u001b[0mp\u001b[0m\u001b[0;34m.\u001b[0m\u001b[0murl\u001b[0m\u001b[0;34m)\u001b[0m\u001b[0;34m\u001b[0m\u001b[0m\n\u001b[1;32m     31\u001b[0m     \u001b[0;32mreturn\u001b[0m \u001b[0mget_view_count\u001b[0m\u001b[0;34m(\u001b[0m\u001b[0mp\u001b[0m\u001b[0;34m.\u001b[0m\u001b[0murl\u001b[0m\u001b[0;34m,\u001b[0m \u001b[0mcsrf\u001b[0m\u001b[0;34m,\u001b[0m \u001b[0mcookies\u001b[0m\u001b[0;34m)\u001b[0m\u001b[0;34m.\u001b[0m\u001b[0mget\u001b[0m\u001b[0;34m(\u001b[0m\u001b[0;34m'views'\u001b[0m\u001b[0;34m,\u001b[0m \u001b[0;34m-\u001b[0m\u001b[0;36m1\u001b[0m\u001b[0;34m)\u001b[0m\u001b[0;34m\u001b[0m\u001b[0m\n",
      "\u001b[0;32m/Users/user/anaconda/lib/python3.6/site-packages/steem/post.py\u001b[0m in \u001b[0;36m__init__\u001b[0;34m(self, post, steemd_instance)\u001b[0m\n\u001b[1;32m     49\u001b[0m                              \"with author and permlink!\")\n\u001b[1;32m     50\u001b[0m \u001b[0;34m\u001b[0m\u001b[0m\n\u001b[0;32m---> 51\u001b[0;31m         \u001b[0mself\u001b[0m\u001b[0;34m.\u001b[0m\u001b[0mrefresh\u001b[0m\u001b[0;34m(\u001b[0m\u001b[0;34m)\u001b[0m\u001b[0;34m\u001b[0m\u001b[0m\n\u001b[0m\u001b[1;32m     52\u001b[0m \u001b[0;34m\u001b[0m\u001b[0m\n\u001b[1;32m     53\u001b[0m     \u001b[0;34m@\u001b[0m\u001b[0mstaticmethod\u001b[0m\u001b[0;34m\u001b[0m\u001b[0m\n",
      "\u001b[0;32m/Users/user/anaconda/lib/python3.6/site-packages/steem/post.py\u001b[0m in \u001b[0;36mrefresh\u001b[0;34m(self)\u001b[0m\n\u001b[1;32m     58\u001b[0m     \u001b[0;32mdef\u001b[0m \u001b[0mrefresh\u001b[0m\u001b[0;34m(\u001b[0m\u001b[0mself\u001b[0m\u001b[0;34m)\u001b[0m\u001b[0;34m:\u001b[0m\u001b[0;34m\u001b[0m\u001b[0m\n\u001b[1;32m     59\u001b[0m         \u001b[0mpost_author\u001b[0m\u001b[0;34m,\u001b[0m \u001b[0mpost_permlink\u001b[0m \u001b[0;34m=\u001b[0m \u001b[0mresolve_identifier\u001b[0m\u001b[0;34m(\u001b[0m\u001b[0mself\u001b[0m\u001b[0;34m.\u001b[0m\u001b[0midentifier\u001b[0m\u001b[0;34m)\u001b[0m\u001b[0;34m\u001b[0m\u001b[0m\n\u001b[0;32m---> 60\u001b[0;31m         \u001b[0mpost\u001b[0m \u001b[0;34m=\u001b[0m \u001b[0mself\u001b[0m\u001b[0;34m.\u001b[0m\u001b[0msteemd\u001b[0m\u001b[0;34m.\u001b[0m\u001b[0mget_content\u001b[0m\u001b[0;34m(\u001b[0m\u001b[0mpost_author\u001b[0m\u001b[0;34m,\u001b[0m \u001b[0mpost_permlink\u001b[0m\u001b[0;34m)\u001b[0m\u001b[0;34m\u001b[0m\u001b[0m\n\u001b[0m\u001b[1;32m     61\u001b[0m         \u001b[0;32mif\u001b[0m \u001b[0;32mnot\u001b[0m \u001b[0mpost\u001b[0m\u001b[0;34m[\u001b[0m\u001b[0;34m\"permlink\"\u001b[0m\u001b[0;34m]\u001b[0m\u001b[0;34m:\u001b[0m\u001b[0;34m\u001b[0m\u001b[0m\n\u001b[1;32m     62\u001b[0m             \u001b[0;32mraise\u001b[0m \u001b[0mPostDoesNotExist\u001b[0m\u001b[0;34m(\u001b[0m\u001b[0;34m\"Post does not exist: %s\"\u001b[0m \u001b[0;34m%\u001b[0m \u001b[0mself\u001b[0m\u001b[0;34m.\u001b[0m\u001b[0midentifier\u001b[0m\u001b[0;34m)\u001b[0m\u001b[0;34m\u001b[0m\u001b[0m\n",
      "\u001b[0;32m/Users/user/anaconda/lib/python3.6/site-packages/steem/steemd.py\u001b[0m in \u001b[0;36mget_content\u001b[0;34m(self, author, permlink)\u001b[0m\n\u001b[1;32m    756\u001b[0m     \u001b[0;32mdef\u001b[0m \u001b[0mget_content\u001b[0m\u001b[0;34m(\u001b[0m\u001b[0mself\u001b[0m\u001b[0;34m,\u001b[0m \u001b[0mauthor\u001b[0m\u001b[0;34m:\u001b[0m \u001b[0mstr\u001b[0m\u001b[0;34m,\u001b[0m \u001b[0mpermlink\u001b[0m\u001b[0;34m:\u001b[0m \u001b[0mstr\u001b[0m\u001b[0;34m)\u001b[0m\u001b[0;34m:\u001b[0m\u001b[0;34m\u001b[0m\u001b[0m\n\u001b[1;32m    757\u001b[0m         \u001b[0;34m\"\"\" get_content \"\"\"\u001b[0m\u001b[0;34m\u001b[0m\u001b[0m\n\u001b[0;32m--> 758\u001b[0;31m         \u001b[0;32mreturn\u001b[0m \u001b[0mself\u001b[0m\u001b[0;34m.\u001b[0m\u001b[0mexec\u001b[0m\u001b[0;34m(\u001b[0m\u001b[0;34m'get_content'\u001b[0m\u001b[0;34m,\u001b[0m \u001b[0mauthor\u001b[0m\u001b[0;34m,\u001b[0m \u001b[0mpermlink\u001b[0m\u001b[0;34m,\u001b[0m \u001b[0mapi\u001b[0m\u001b[0;34m=\u001b[0m\u001b[0;34m'database_api'\u001b[0m\u001b[0;34m)\u001b[0m\u001b[0;34m\u001b[0m\u001b[0m\n\u001b[0m\u001b[1;32m    759\u001b[0m \u001b[0;34m\u001b[0m\u001b[0m\n\u001b[1;32m    760\u001b[0m     \u001b[0;32mdef\u001b[0m \u001b[0mget_content_replies\u001b[0m\u001b[0;34m(\u001b[0m\u001b[0mself\u001b[0m\u001b[0;34m,\u001b[0m \u001b[0mauthor\u001b[0m\u001b[0;34m:\u001b[0m \u001b[0mstr\u001b[0m\u001b[0;34m,\u001b[0m \u001b[0mpermlink\u001b[0m\u001b[0;34m:\u001b[0m \u001b[0mstr\u001b[0m\u001b[0;34m)\u001b[0m\u001b[0;34m:\u001b[0m\u001b[0;34m\u001b[0m\u001b[0m\n",
      "\u001b[0;32m/Users/user/anaconda/lib/python3.6/site-packages/steembase/http_client.py\u001b[0m in \u001b[0;36mexec\u001b[0;34m(self, name, api, return_with_args, _ret_cnt, *args)\u001b[0m\n\u001b[1;32m    144\u001b[0m         \u001b[0mresponse\u001b[0m \u001b[0;34m=\u001b[0m \u001b[0;32mNone\u001b[0m\u001b[0;34m\u001b[0m\u001b[0m\n\u001b[1;32m    145\u001b[0m         \u001b[0;32mtry\u001b[0m\u001b[0;34m:\u001b[0m\u001b[0;34m\u001b[0m\u001b[0m\n\u001b[0;32m--> 146\u001b[0;31m             \u001b[0mresponse\u001b[0m \u001b[0;34m=\u001b[0m \u001b[0mself\u001b[0m\u001b[0;34m.\u001b[0m\u001b[0mrequest\u001b[0m\u001b[0;34m(\u001b[0m\u001b[0mbody\u001b[0m\u001b[0;34m=\u001b[0m\u001b[0mbody\u001b[0m\u001b[0;34m)\u001b[0m\u001b[0;34m\u001b[0m\u001b[0m\n\u001b[0m\u001b[1;32m    147\u001b[0m         except (MaxRetryError,\n\u001b[1;32m    148\u001b[0m                 \u001b[0mConnectionResetError\u001b[0m\u001b[0;34m,\u001b[0m\u001b[0;34m\u001b[0m\u001b[0m\n",
      "\u001b[0;32m/Users/user/anaconda/lib/python3.6/site-packages/urllib3/poolmanager.py\u001b[0m in \u001b[0;36murlopen\u001b[0;34m(self, method, url, redirect, **kw)\u001b[0m\n\u001b[1;32m    319\u001b[0m             \u001b[0mresponse\u001b[0m \u001b[0;34m=\u001b[0m \u001b[0mconn\u001b[0m\u001b[0;34m.\u001b[0m\u001b[0murlopen\u001b[0m\u001b[0;34m(\u001b[0m\u001b[0mmethod\u001b[0m\u001b[0;34m,\u001b[0m \u001b[0murl\u001b[0m\u001b[0;34m,\u001b[0m \u001b[0;34m**\u001b[0m\u001b[0mkw\u001b[0m\u001b[0;34m)\u001b[0m\u001b[0;34m\u001b[0m\u001b[0m\n\u001b[1;32m    320\u001b[0m         \u001b[0;32melse\u001b[0m\u001b[0;34m:\u001b[0m\u001b[0;34m\u001b[0m\u001b[0m\n\u001b[0;32m--> 321\u001b[0;31m             \u001b[0mresponse\u001b[0m \u001b[0;34m=\u001b[0m \u001b[0mconn\u001b[0m\u001b[0;34m.\u001b[0m\u001b[0murlopen\u001b[0m\u001b[0;34m(\u001b[0m\u001b[0mmethod\u001b[0m\u001b[0;34m,\u001b[0m \u001b[0mu\u001b[0m\u001b[0;34m.\u001b[0m\u001b[0mrequest_uri\u001b[0m\u001b[0;34m,\u001b[0m \u001b[0;34m**\u001b[0m\u001b[0mkw\u001b[0m\u001b[0;34m)\u001b[0m\u001b[0;34m\u001b[0m\u001b[0m\n\u001b[0m\u001b[1;32m    322\u001b[0m \u001b[0;34m\u001b[0m\u001b[0m\n\u001b[1;32m    323\u001b[0m         \u001b[0mredirect_location\u001b[0m \u001b[0;34m=\u001b[0m \u001b[0mredirect\u001b[0m \u001b[0;32mand\u001b[0m \u001b[0mresponse\u001b[0m\u001b[0;34m.\u001b[0m\u001b[0mget_redirect_location\u001b[0m\u001b[0;34m(\u001b[0m\u001b[0;34m)\u001b[0m\u001b[0;34m\u001b[0m\u001b[0m\n",
      "\u001b[0;32m/Users/user/anaconda/lib/python3.6/site-packages/urllib3/connectionpool.py\u001b[0m in \u001b[0;36murlopen\u001b[0;34m(self, method, url, body, headers, retries, redirect, assert_same_host, timeout, pool_timeout, release_conn, chunked, body_pos, **response_kw)\u001b[0m\n\u001b[1;32m    598\u001b[0m                                                   \u001b[0mtimeout\u001b[0m\u001b[0;34m=\u001b[0m\u001b[0mtimeout_obj\u001b[0m\u001b[0;34m,\u001b[0m\u001b[0;34m\u001b[0m\u001b[0m\n\u001b[1;32m    599\u001b[0m                                                   \u001b[0mbody\u001b[0m\u001b[0;34m=\u001b[0m\u001b[0mbody\u001b[0m\u001b[0;34m,\u001b[0m \u001b[0mheaders\u001b[0m\u001b[0;34m=\u001b[0m\u001b[0mheaders\u001b[0m\u001b[0;34m,\u001b[0m\u001b[0;34m\u001b[0m\u001b[0m\n\u001b[0;32m--> 600\u001b[0;31m                                                   chunked=chunked)\n\u001b[0m\u001b[1;32m    601\u001b[0m \u001b[0;34m\u001b[0m\u001b[0m\n\u001b[1;32m    602\u001b[0m             \u001b[0;31m# If we're going to release the connection in ``finally:``, then\u001b[0m\u001b[0;34m\u001b[0m\u001b[0;34m\u001b[0m\u001b[0m\n",
      "\u001b[0;32m/Users/user/anaconda/lib/python3.6/site-packages/urllib3/connectionpool.py\u001b[0m in \u001b[0;36m_make_request\u001b[0;34m(self, conn, method, url, timeout, chunked, **httplib_request_kw)\u001b[0m\n\u001b[1;32m    343\u001b[0m         \u001b[0;31m# Trigger any extra validation we need to do.\u001b[0m\u001b[0;34m\u001b[0m\u001b[0;34m\u001b[0m\u001b[0m\n\u001b[1;32m    344\u001b[0m         \u001b[0;32mtry\u001b[0m\u001b[0;34m:\u001b[0m\u001b[0;34m\u001b[0m\u001b[0m\n\u001b[0;32m--> 345\u001b[0;31m             \u001b[0mself\u001b[0m\u001b[0;34m.\u001b[0m\u001b[0m_validate_conn\u001b[0m\u001b[0;34m(\u001b[0m\u001b[0mconn\u001b[0m\u001b[0;34m)\u001b[0m\u001b[0;34m\u001b[0m\u001b[0m\n\u001b[0m\u001b[1;32m    346\u001b[0m         \u001b[0;32mexcept\u001b[0m \u001b[0;34m(\u001b[0m\u001b[0mSocketTimeout\u001b[0m\u001b[0;34m,\u001b[0m \u001b[0mBaseSSLError\u001b[0m\u001b[0;34m)\u001b[0m \u001b[0;32mas\u001b[0m \u001b[0me\u001b[0m\u001b[0;34m:\u001b[0m\u001b[0;34m\u001b[0m\u001b[0m\n\u001b[1;32m    347\u001b[0m             \u001b[0;31m# Py2 raises this as a BaseSSLError, Py3 raises it as socket timeout.\u001b[0m\u001b[0;34m\u001b[0m\u001b[0;34m\u001b[0m\u001b[0m\n",
      "\u001b[0;32m/Users/user/anaconda/lib/python3.6/site-packages/urllib3/connectionpool.py\u001b[0m in \u001b[0;36m_validate_conn\u001b[0;34m(self, conn)\u001b[0m\n\u001b[1;32m    842\u001b[0m         \u001b[0;31m# Force connect early to allow us to validate the connection.\u001b[0m\u001b[0;34m\u001b[0m\u001b[0;34m\u001b[0m\u001b[0m\n\u001b[1;32m    843\u001b[0m         \u001b[0;32mif\u001b[0m \u001b[0;32mnot\u001b[0m \u001b[0mgetattr\u001b[0m\u001b[0;34m(\u001b[0m\u001b[0mconn\u001b[0m\u001b[0;34m,\u001b[0m \u001b[0;34m'sock'\u001b[0m\u001b[0;34m,\u001b[0m \u001b[0;32mNone\u001b[0m\u001b[0;34m)\u001b[0m\u001b[0;34m:\u001b[0m  \u001b[0;31m# AppEngine might not have  `.sock`\u001b[0m\u001b[0;34m\u001b[0m\u001b[0m\n\u001b[0;32m--> 844\u001b[0;31m             \u001b[0mconn\u001b[0m\u001b[0;34m.\u001b[0m\u001b[0mconnect\u001b[0m\u001b[0;34m(\u001b[0m\u001b[0;34m)\u001b[0m\u001b[0;34m\u001b[0m\u001b[0m\n\u001b[0m\u001b[1;32m    845\u001b[0m \u001b[0;34m\u001b[0m\u001b[0m\n\u001b[1;32m    846\u001b[0m         \u001b[0;32mif\u001b[0m \u001b[0;32mnot\u001b[0m \u001b[0mconn\u001b[0m\u001b[0;34m.\u001b[0m\u001b[0mis_verified\u001b[0m\u001b[0;34m:\u001b[0m\u001b[0;34m\u001b[0m\u001b[0m\n",
      "\u001b[0;32m/Users/user/anaconda/lib/python3.6/site-packages/urllib3/connection.py\u001b[0m in \u001b[0;36mconnect\u001b[0;34m(self)\u001b[0m\n\u001b[1;32m    282\u001b[0m     \u001b[0;32mdef\u001b[0m \u001b[0mconnect\u001b[0m\u001b[0;34m(\u001b[0m\u001b[0mself\u001b[0m\u001b[0;34m)\u001b[0m\u001b[0;34m:\u001b[0m\u001b[0;34m\u001b[0m\u001b[0m\n\u001b[1;32m    283\u001b[0m         \u001b[0;31m# Add certificate verification\u001b[0m\u001b[0;34m\u001b[0m\u001b[0;34m\u001b[0m\u001b[0m\n\u001b[0;32m--> 284\u001b[0;31m         \u001b[0mconn\u001b[0m \u001b[0;34m=\u001b[0m \u001b[0mself\u001b[0m\u001b[0;34m.\u001b[0m\u001b[0m_new_conn\u001b[0m\u001b[0;34m(\u001b[0m\u001b[0;34m)\u001b[0m\u001b[0;34m\u001b[0m\u001b[0m\n\u001b[0m\u001b[1;32m    285\u001b[0m \u001b[0;34m\u001b[0m\u001b[0m\n\u001b[1;32m    286\u001b[0m         \u001b[0mhostname\u001b[0m \u001b[0;34m=\u001b[0m \u001b[0mself\u001b[0m\u001b[0;34m.\u001b[0m\u001b[0mhost\u001b[0m\u001b[0;34m\u001b[0m\u001b[0m\n",
      "\u001b[0;32m/Users/user/anaconda/lib/python3.6/site-packages/urllib3/connection.py\u001b[0m in \u001b[0;36m_new_conn\u001b[0;34m(self)\u001b[0m\n\u001b[1;32m    139\u001b[0m         \u001b[0;32mtry\u001b[0m\u001b[0;34m:\u001b[0m\u001b[0;34m\u001b[0m\u001b[0m\n\u001b[1;32m    140\u001b[0m             conn = connection.create_connection(\n\u001b[0;32m--> 141\u001b[0;31m                 (self.host, self.port), self.timeout, **extra_kw)\n\u001b[0m\u001b[1;32m    142\u001b[0m \u001b[0;34m\u001b[0m\u001b[0m\n\u001b[1;32m    143\u001b[0m         \u001b[0;32mexcept\u001b[0m \u001b[0mSocketTimeout\u001b[0m \u001b[0;32mas\u001b[0m \u001b[0me\u001b[0m\u001b[0;34m:\u001b[0m\u001b[0;34m\u001b[0m\u001b[0m\n",
      "\u001b[0;32m/Users/user/anaconda/lib/python3.6/site-packages/urllib3/util/connection.py\u001b[0m in \u001b[0;36mcreate_connection\u001b[0;34m(address, timeout, source_address, socket_options)\u001b[0m\n\u001b[1;32m     71\u001b[0m             \u001b[0;32mif\u001b[0m \u001b[0msource_address\u001b[0m\u001b[0;34m:\u001b[0m\u001b[0;34m\u001b[0m\u001b[0m\n\u001b[1;32m     72\u001b[0m                 \u001b[0msock\u001b[0m\u001b[0;34m.\u001b[0m\u001b[0mbind\u001b[0m\u001b[0;34m(\u001b[0m\u001b[0msource_address\u001b[0m\u001b[0;34m)\u001b[0m\u001b[0;34m\u001b[0m\u001b[0m\n\u001b[0;32m---> 73\u001b[0;31m             \u001b[0msock\u001b[0m\u001b[0;34m.\u001b[0m\u001b[0mconnect\u001b[0m\u001b[0;34m(\u001b[0m\u001b[0msa\u001b[0m\u001b[0;34m)\u001b[0m\u001b[0;34m\u001b[0m\u001b[0m\n\u001b[0m\u001b[1;32m     74\u001b[0m             \u001b[0;32mreturn\u001b[0m \u001b[0msock\u001b[0m\u001b[0;34m\u001b[0m\u001b[0m\n\u001b[1;32m     75\u001b[0m \u001b[0;34m\u001b[0m\u001b[0m\n",
      "\u001b[0;31mKeyboardInterrupt\u001b[0m: "
     ]
    }
   ],
   "source": [
    "from funcy import silent\n",
    "posts2 = [{**x, 'views': silent(get_views)(x['identifier'])} for x in posts]"
   ]
  },
  {
   "cell_type": "code",
   "execution_count": 74,
   "metadata": {
    "collapsed": true
   },
   "outputs": [],
   "source": [
    "posts3 = [{\n",
    "    **x,\n",
    "    'pending_payout_value': x['pending_payout_value']['amount'],\n",
    "    'total_payout_value': x['total_payout_value']['amount'],\n",
    "} for x in posts2]"
   ]
  },
  {
   "cell_type": "code",
   "execution_count": 75,
   "metadata": {
    "collapsed": true
   },
   "outputs": [],
   "source": [
    "df = pd.DataFrame(posts3)"
   ]
  },
  {
   "cell_type": "code",
   "execution_count": 76,
   "metadata": {
    "collapsed": true
   },
   "outputs": [],
   "source": [
    "df2 = df[['author', 'title', 'net_votes', 'pending_payout_value', 'views']].dropna()\n",
    "df2['author'] = df2['author'].apply(lambda x: \"@%s\" % x)\n",
    "df2['views'] = df2['views'].apply(int)\n",
    "df2['title'] = df2['title'].apply(lambda x: x[:30])"
   ]
  },
  {
   "cell_type": "code",
   "execution_count": 77,
   "metadata": {},
   "outputs": [
    {
     "data": {
      "text/html": [
       "<div>\n",
       "<style>\n",
       "    .dataframe thead tr:only-child th {\n",
       "        text-align: right;\n",
       "    }\n",
       "\n",
       "    .dataframe thead th {\n",
       "        text-align: left;\n",
       "    }\n",
       "\n",
       "    .dataframe tbody tr th {\n",
       "        vertical-align: top;\n",
       "    }\n",
       "</style>\n",
       "<table border=\"1\" class=\"dataframe\">\n",
       "  <thead>\n",
       "    <tr style=\"text-align: right;\">\n",
       "      <th></th>\n",
       "      <th>author</th>\n",
       "      <th>title</th>\n",
       "      <th>net_votes</th>\n",
       "      <th>pending_payout_value</th>\n",
       "      <th>views</th>\n",
       "    </tr>\n",
       "  </thead>\n",
       "  <tbody>\n",
       "    <tr>\n",
       "      <th>246</th>\n",
       "      <td>@noisy</td>\n",
       "      <td>We just hacked 11 accounts on</td>\n",
       "      <td>1518</td>\n",
       "      <td>5323.804</td>\n",
       "      <td>14821</td>\n",
       "    </tr>\n",
       "    <tr>\n",
       "      <th>1816</th>\n",
       "      <td>@joseph</td>\n",
       "      <td>Why Will Ethereum Fail?</td>\n",
       "      <td>1234</td>\n",
       "      <td>3285.757</td>\n",
       "      <td>9205</td>\n",
       "    </tr>\n",
       "    <tr>\n",
       "      <th>881</th>\n",
       "      <td>@darthnava</td>\n",
       "      <td>Fellow Steemers, I Need Help a</td>\n",
       "      <td>3129</td>\n",
       "      <td>14800.853</td>\n",
       "      <td>8587</td>\n",
       "    </tr>\n",
       "    <tr>\n",
       "      <th>1239</th>\n",
       "      <td>@timcliff</td>\n",
       "      <td>You should join Steemit. Here</td>\n",
       "      <td>1441</td>\n",
       "      <td>2723.802</td>\n",
       "      <td>5138</td>\n",
       "    </tr>\n",
       "    <tr>\n",
       "      <th>474</th>\n",
       "      <td>@teamsteem</td>\n",
       "      <td>Some Steem Tips For Some Steem</td>\n",
       "      <td>1137</td>\n",
       "      <td>2955.529</td>\n",
       "      <td>3785</td>\n",
       "    </tr>\n",
       "  </tbody>\n",
       "</table>\n",
       "</div>"
      ],
      "text/plain": [
       "          author                           title  net_votes  \\\n",
       "246       @noisy  We just hacked 11 accounts on        1518   \n",
       "1816     @joseph         Why Will Ethereum Fail?       1234   \n",
       "881   @darthnava  Fellow Steemers, I Need Help a       3129   \n",
       "1239   @timcliff  You should join Steemit. Here        1441   \n",
       "474   @teamsteem  Some Steem Tips For Some Steem       1137   \n",
       "\n",
       "      pending_payout_value  views  \n",
       "246               5323.804  14821  \n",
       "1816              3285.757   9205  \n",
       "881              14800.853   8587  \n",
       "1239              2723.802   5138  \n",
       "474               2955.529   3785  "
      ]
     },
     "execution_count": 77,
     "metadata": {},
     "output_type": "execute_result"
    }
   ],
   "source": [
    "df3 = df2.sort_values('views', ascending=False).head(25)\n",
    "df3.head(5)"
   ]
  },
  {
   "cell_type": "code",
   "execution_count": 78,
   "metadata": {
    "scrolled": true
   },
   "outputs": [
    {
     "name": "stdout",
     "output_type": "stream",
     "text": [
      "<table>\n",
      "<thead>\n",
      "<tr><th>author          </th><th>title                                         </th><th style=\"text-align: right;\">  net_votes</th><th style=\"text-align: right;\">  pending_payout_value</th><th style=\"text-align: right;\">  views</th></tr>\n",
      "</thead>\n",
      "<tbody>\n",
      "<tr><td>@noisy          </td><td>We just hacked 11 accounts on                 </td><td style=\"text-align: right;\">       1518</td><td style=\"text-align: right;\">              5323.8  </td><td style=\"text-align: right;\">  14821</td></tr>\n",
      "<tr><td>@joseph         </td><td>Why Will Ethereum Fail?                       </td><td style=\"text-align: right;\">       1234</td><td style=\"text-align: right;\">              3285.76 </td><td style=\"text-align: right;\">   9205</td></tr>\n",
      "<tr><td>@darthnava      </td><td>Fellow Steemers, I Need Help a                </td><td style=\"text-align: right;\">       3129</td><td style=\"text-align: right;\">             14800.9  </td><td style=\"text-align: right;\">   8587</td></tr>\n",
      "<tr><td>@timcliff       </td><td>You should join Steemit. Here                 </td><td style=\"text-align: right;\">       1441</td><td style=\"text-align: right;\">              2723.8  </td><td style=\"text-align: right;\">   5138</td></tr>\n",
      "<tr><td>@teamsteem      </td><td>Some Steem Tips For Some Steem                </td><td style=\"text-align: right;\">       1137</td><td style=\"text-align: right;\">              2955.53 </td><td style=\"text-align: right;\">   3785</td></tr>\n",
      "<tr><td>@jerrybanfield  </td><td>Steem Video Ad #1 on Facebook                 </td><td style=\"text-align: right;\">       1178</td><td style=\"text-align: right;\">              3011.12 </td><td style=\"text-align: right;\">   2949</td></tr>\n",
      "<tr><td>@maa            </td><td>코인 투자에서 돈을 잃지 않는 방법 (2) - 完    </td><td style=\"text-align: right;\">        193</td><td style=\"text-align: right;\">                 0    </td><td style=\"text-align: right;\">   2783</td></tr>\n",
      "<tr><td>@kevinwong      </td><td>Why Should You Consider Accumu                </td><td style=\"text-align: right;\">       1108</td><td style=\"text-align: right;\">              2691.53 </td><td style=\"text-align: right;\">   2649</td></tr>\n",
      "<tr><td>@kingscrown     </td><td>Interesting Facts about Bitcoi                </td><td style=\"text-align: right;\">       1101</td><td style=\"text-align: right;\">              2011.79 </td><td style=\"text-align: right;\">   2534</td></tr>\n",
      "<tr><td>@thisisbenbrick </td><td>Help me welcome two new people                </td><td style=\"text-align: right;\">        783</td><td style=\"text-align: right;\">              1631.39 </td><td style=\"text-align: right;\">   2414</td></tr>\n",
      "<tr><td>@coinkorea      </td><td>CoinKorea 6월 1주차 암호화폐 뉴스입니다. (    </td><td style=\"text-align: right;\">        160</td><td style=\"text-align: right;\">                 0    </td><td style=\"text-align: right;\">   2399</td></tr>\n",
      "<tr><td>@theywillkillyou</td><td>Introducing “They Will Kill Yo                </td><td style=\"text-align: right;\">        782</td><td style=\"text-align: right;\">              2743.51 </td><td style=\"text-align: right;\">   2277</td></tr>\n",
      "<tr><td>@allasyummyfood </td><td>FINALLY ITS HERE.... I PRESENT                </td><td style=\"text-align: right;\">        677</td><td style=\"text-align: right;\">              1443.89 </td><td style=\"text-align: right;\">   2191</td></tr>\n",
      "<tr><td>@renohq         </td><td>코인 트레이딩 참여시 꼭 주의해야 할 점 Ver. 01</td><td style=\"text-align: right;\">        174</td><td style=\"text-align: right;\">               393.588</td><td style=\"text-align: right;\">   2058</td></tr>\n",
      "<tr><td>@eosio          </td><td>EOS.IO Technical White Paper                  </td><td style=\"text-align: right;\">        229</td><td style=\"text-align: right;\">               870.114</td><td style=\"text-align: right;\">   1983</td></tr>\n",
      "<tr><td>@joseph         </td><td>ETC VS ETH                                    </td><td style=\"text-align: right;\">        587</td><td style=\"text-align: right;\">               938.377</td><td style=\"text-align: right;\">   1944</td></tr>\n",
      "<tr><td>@ausbitbank     </td><td>🚀 From $0 to $100K AUD in 11 m               </td><td style=\"text-align: right;\">        716</td><td style=\"text-align: right;\">              1661.17 </td><td style=\"text-align: right;\">   1905</td></tr>\n",
      "<tr><td>@kingscrown     </td><td>Double-spend Attack on some Pr                </td><td style=\"text-align: right;\">        882</td><td style=\"text-align: right;\">              1864.1  </td><td style=\"text-align: right;\">   1879</td></tr>\n",
      "<tr><td>@kingscrown     </td><td>August to be a BREAKING month                 </td><td style=\"text-align: right;\">        808</td><td style=\"text-align: right;\">              1441.61 </td><td style=\"text-align: right;\">   1801</td></tr>\n",
      "<tr><td>@infovore       </td><td>Making A Change With Blockchai                </td><td style=\"text-align: right;\">        931</td><td style=\"text-align: right;\">              2521.75 </td><td style=\"text-align: right;\">   1696</td></tr>\n",
      "<tr><td>@jrcornel       </td><td>Analyst who accurately predict                </td><td style=\"text-align: right;\">        585</td><td style=\"text-align: right;\">               898.071</td><td style=\"text-align: right;\">   1685</td></tr>\n",
      "<tr><td>@atomrigs       </td><td>비탈릭과 푸틴의 만남                          </td><td style=\"text-align: right;\">        101</td><td style=\"text-align: right;\">               153.986</td><td style=\"text-align: right;\">   1655</td></tr>\n",
      "<tr><td>@insic          </td><td>[ INsiC ] 06/01 Steem ,bts 분석               </td><td style=\"text-align: right;\">        111</td><td style=\"text-align: right;\">               202.637</td><td style=\"text-align: right;\">   1640</td></tr>\n",
      "<tr><td>@kingscrown     </td><td>Why its good Steemit didnt hav                </td><td style=\"text-align: right;\">        950</td><td style=\"text-align: right;\">              1854.73 </td><td style=\"text-align: right;\">   1593</td></tr>\n",
      "<tr><td>@sweetsssj      </td><td>Travel with me #64 : Adventure                </td><td style=\"text-align: right;\">        675</td><td style=\"text-align: right;\">              1335.03 </td><td style=\"text-align: right;\">   1585</td></tr>\n",
      "</tbody>\n",
      "</table>\n"
     ]
    }
   ],
   "source": [
    "from tabulate import tabulate\n",
    "print(tabulate(df3.values.tolist(), df3.columns.tolist(), tablefmt=\"html\"))"
   ]
  },
  {
   "cell_type": "code",
   "execution_count": null,
   "metadata": {
    "collapsed": true
   },
   "outputs": [],
   "source": []
  },
  {
   "cell_type": "code",
   "execution_count": null,
   "metadata": {
    "collapsed": true
   },
   "outputs": [],
   "source": []
  },
  {
   "cell_type": "markdown",
   "metadata": {},
   "source": [
    "## Top Posts by Languages"
   ]
  },
  {
   "cell_type": "code",
   "execution_count": null,
   "metadata": {
    "collapsed": true
   },
   "outputs": [],
   "source": [
    "# time constraints\n",
    "time_constraints = {\n",
    "    '$gte': dt.datetime.now() - dt.timedelta(days=7),\n",
    "}\n",
    "conditions = {\n",
    "    'created': time_constraints,\n",
    "    'net_votes': {'$gt': 3},\n",
    "    'children': {'$gt': 1},\n",
    "}\n",
    "projection = {\n",
    "    '_id': 0,\n",
    "    'identifier': 1,\n",
    "    'title': 1,\n",
    "    'author': 1,\n",
    "    'body': 1,\n",
    "}\n",
    "lang_posts = list(db['Posts'].find(conditions, projection=projection))"
   ]
  },
  {
   "cell_type": "code",
   "execution_count": null,
   "metadata": {
    "collapsed": true
   },
   "outputs": [],
   "source": [
    "len(lang_posts)"
   ]
  },
  {
   "cell_type": "code",
   "execution_count": null,
   "metadata": {
    "collapsed": true
   },
   "outputs": [],
   "source": [
    "from langdetect import detect_langs\n",
    "from funcy.colls import pluck\n",
    "from funcy.seqs import first, last\n",
    "from toolz.functoolz import compose, thread_last\n",
    "from contextlib import suppress\n",
    "from collections import Counter"
   ]
  },
  {
   "cell_type": "code",
   "execution_count": null,
   "metadata": {
    "collapsed": true
   },
   "outputs": [],
   "source": [
    "def detect(body):\n",
    "    with suppress(Exception):\n",
    "        langs = detect_langs(body)\n",
    "        if langs:\n",
    "            return first(langs)\n",
    "    \n",
    "    return []"
   ]
  },
  {
   "cell_type": "code",
   "execution_count": null,
   "metadata": {
    "collapsed": true,
    "scrolled": true
   },
   "outputs": [],
   "source": [
    "languages = thread_last(\n",
    "    filter(lambda x: len(x['body']) > 100, lang_posts),\n",
    "    (pluck, 'body'),\n",
    "    (map, detect),\n",
    "    (filter, bool)\n",
    ")"
   ]
  },
  {
   "cell_type": "code",
   "execution_count": null,
   "metadata": {
    "collapsed": true
   },
   "outputs": [],
   "source": [
    "languages = [x.lang for x in languages if x and x.prob > 0.8]"
   ]
  },
  {
   "cell_type": "code",
   "execution_count": null,
   "metadata": {
    "collapsed": true
   },
   "outputs": [],
   "source": [
    "c = Counter(languages)"
   ]
  },
  {
   "cell_type": "code",
   "execution_count": null,
   "metadata": {
    "collapsed": true
   },
   "outputs": [],
   "source": [
    "c.most_common(10)"
   ]
  },
  {
   "cell_type": "code",
   "execution_count": null,
   "metadata": {
    "collapsed": true
   },
   "outputs": [],
   "source": [
    "normalized = [{'language': first(x), 'pct_share': round(last(x) / len(languages) * 100, 3)} for x in c.most_common(10)]"
   ]
  },
  {
   "cell_type": "code",
   "execution_count": null,
   "metadata": {
    "collapsed": true
   },
   "outputs": [],
   "source": [
    "normalized"
   ]
  },
  {
   "cell_type": "code",
   "execution_count": null,
   "metadata": {
    "collapsed": true
   },
   "outputs": [],
   "source": [
    "df = pd.DataFrame(normalized)\n",
    "df.index = range(1,len(df)+1)"
   ]
  },
  {
   "cell_type": "code",
   "execution_count": null,
   "metadata": {
    "collapsed": true
   },
   "outputs": [],
   "source": [
    "df.head(10)"
   ]
  },
  {
   "cell_type": "code",
   "execution_count": null,
   "metadata": {
    "collapsed": true
   },
   "outputs": [],
   "source": [
    "import plotly.plotly as py\n",
    "import plotly.graph_objs as go\n",
    "\n",
    "labels = [first(x) for x in c.most_common(7)]\n",
    "values = [last(x) for x in c.most_common(7)]\n",
    "colors = ['#FEBFB3', '#E1396C', '#96D38C', '#D0F9B1']\n",
    "\n",
    "trace = go.Pie(labels=labels, values=values,\n",
    "               hoverinfo='label+percent', textinfo='label', \n",
    "               textfont=dict(size=20),\n",
    "               marker=dict(colors=colors, \n",
    "                           line=dict(color='#000000', width=2)))\n",
    "\n",
    "py.iplot([trace], filename='styled_pie_chart')"
   ]
  },
  {
   "cell_type": "code",
   "execution_count": null,
   "metadata": {
    "collapsed": true
   },
   "outputs": [],
   "source": [
    "## todo, create a distinct filter on author field, to count % as unique persons, not as number of posts"
   ]
  },
  {
   "cell_type": "code",
   "execution_count": null,
   "metadata": {
    "collapsed": true
   },
   "outputs": [],
   "source": []
  }
 ],
 "metadata": {
  "kernelspec": {
   "display_name": "Python 3",
   "language": "python",
   "name": "python3"
  },
  "language_info": {
   "codemirror_mode": {
    "name": "ipython",
    "version": 3
   },
   "file_extension": ".py",
   "mimetype": "text/x-python",
   "name": "python",
   "nbconvert_exporter": "python",
   "pygments_lexer": "ipython3",
   "version": "3.6.1"
  }
 },
 "nbformat": 4,
 "nbformat_minor": 2
}
