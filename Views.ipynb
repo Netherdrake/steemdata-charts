{
 "cells": [
  {
   "cell_type": "code",
   "execution_count": 4,
   "metadata": {
    "collapsed": true
   },
   "outputs": [],
   "source": [
    "import datetime as dt\n",
    "from steemdata import SteemData\n",
    "\n",
    "import pandas as pd\n",
    "import numpy as np\n",
    "\n",
    "try:\n",
    "    import plotly.plotly as py\n",
    "    import plotly.graph_objs as go\n",
    "    import cufflinks as cf\n",
    "except:\n",
    "    !pip install plotly\n",
    "    !pip install cufflinks\n",
    "    \n",
    "# helpers\n",
    "from toolz import keyfilter\n",
    "\n",
    "def keep(d, whitelist):\n",
    "    return keyfilter(lambda k: k in whitelist, d)\n",
    "\n",
    "def omit(d, blacklist):\n",
    "    return keyfilter(lambda k: k not in blacklist, d)"
   ]
  },
  {
   "cell_type": "code",
   "execution_count": 5,
   "metadata": {
    "collapsed": true
   },
   "outputs": [],
   "source": [
    "db = SteemData().db"
   ]
  },
  {
   "cell_type": "code",
   "execution_count": null,
   "metadata": {
    "collapsed": true
   },
   "outputs": [],
   "source": []
  },
  {
   "cell_type": "markdown",
   "metadata": {},
   "source": [
    "## Methods"
   ]
  },
  {
   "cell_type": "code",
   "execution_count": 36,
   "metadata": {
    "collapsed": true
   },
   "outputs": [],
   "source": [
    "import json\n",
    "\n",
    "import requests as rs\n",
    "from steem.post import Post\n",
    "\n",
    "\n",
    "def get_csrf(url):\n",
    "    resp = rs.get(url)\n",
    "\n",
    "    if resp.status_code == 200:\n",
    "        body = resp.text\n",
    "        start_index = body.find('\"csrf\":\"')\n",
    "        csrf = body[start_index + 8:start_index + 44]\n",
    "        return csrf, resp.cookies\n",
    "\n",
    "\n",
    "def get_view_count(url_partial, csrf, cookies):\n",
    "    payload = {\n",
    "        \"csrf\": csrf,\n",
    "        \"page\": url_partial,\n",
    "        \"ref\": \"\",\n",
    "    }\n",
    "\n",
    "    url = 'https://steemit.com/api/v1/page_view'\n",
    "    resp = rs.post(url, json=payload, cookies=cookies)\n",
    "\n",
    "    if resp.status_code == 200 and resp.text:\n",
    "        return json.loads(resp.text)\n",
    "\n",
    "    return {}\n",
    "\n",
    "\n",
    "def get_views(identifier):\n",
    "    p = Post(identifier)\n",
    "    csrf, cookies = get_csrf('https://steemit.com' + p.url)\n",
    "    return get_view_count(p.url, csrf, cookies).get('views', -1)"
   ]
  },
  {
   "cell_type": "code",
   "execution_count": null,
   "metadata": {
    "collapsed": true
   },
   "outputs": [],
   "source": []
  },
  {
   "cell_type": "markdown",
   "metadata": {},
   "source": [
    "## Top Viewed Posts"
   ]
  },
  {
   "cell_type": "code",
   "execution_count": 33,
   "metadata": {
    "collapsed": true
   },
   "outputs": [],
   "source": [
    "# time constraints\n",
    "time_constraints = {\n",
    "    '$gte': dt.datetime.now() - dt.timedelta(days=7),\n",
    "}\n",
    "conditions = {\n",
    "    'created': time_constraints,\n",
    "#     'net_rshares': {'$gt': 0},\n",
    "#     'author_reputation': {'$gt': 0},\n",
    "    'net_votes': {'$gt': 100},\n",
    "}\n",
    "projection = {\n",
    "    '_id': 0,\n",
    "    'identifier': 1,\n",
    "    'net_votes': 1,\n",
    "    'net_rshares': 1,\n",
    "    'author_reputation': 1,\n",
    "    'title': 1,\n",
    "    'author': 1,\n",
    "    'pending_payout_value': 1,\n",
    "    'total_payout_value': 1,\n",
    "}\n",
    "posts = list(db['Posts'].find(conditions, projection=projection))"
   ]
  },
  {
   "cell_type": "code",
   "execution_count": 34,
   "metadata": {
    "collapsed": true
   },
   "outputs": [],
   "source": [
    "def filter_spam(post):\n",
    "    if int(post['net_rshares']) < 0 or int(post['author_reputation']) < 0:\n",
    "        return False\n",
    "    return True"
   ]
  },
  {
   "cell_type": "code",
   "execution_count": 37,
   "metadata": {},
   "outputs": [],
   "source": [
    "posts = list(filter(filter_spam, posts))"
   ]
  },
  {
   "cell_type": "code",
   "execution_count": 38,
   "metadata": {},
   "outputs": [
    {
     "data": {
      "text/plain": [
       "1940"
      ]
     },
     "execution_count": 38,
     "metadata": {},
     "output_type": "execute_result"
    }
   ],
   "source": [
    "len(posts)"
   ]
  },
  {
   "cell_type": "code",
   "execution_count": null,
   "metadata": {
    "collapsed": true
   },
   "outputs": [],
   "source": []
  },
  {
   "cell_type": "code",
   "execution_count": 45,
   "metadata": {},
   "outputs": [],
   "source": [
    "from funcy import silent\n",
    "posts2 = [{**x, 'views': silent(get_views)(x['identifier'])} for x in posts]"
   ]
  },
  {
   "cell_type": "code",
   "execution_count": 50,
   "metadata": {},
   "outputs": [],
   "source": [
    "posts3 = [{\n",
    "    **x,\n",
    "    'pending_payout_value': x['pending_payout_value']['amount'],\n",
    "    'total_payout_value': x['total_payout_value']['amount'],\n",
    "} for x in posts2]"
   ]
  },
  {
   "cell_type": "code",
   "execution_count": 57,
   "metadata": {},
   "outputs": [],
   "source": [
    "df = pd.DataFrame(posts3)"
   ]
  },
  {
   "cell_type": "code",
   "execution_count": 58,
   "metadata": {
    "collapsed": true
   },
   "outputs": [],
   "source": [
    "df2 = df[['author', 'identifier', 'net_votes', 'pending_payout_value', 'views']].dropna()\n",
    "df2['views'] = df2['views'].apply(int)"
   ]
  },
  {
   "cell_type": "code",
   "execution_count": 65,
   "metadata": {},
   "outputs": [
    {
     "data": {
      "text/html": [
       "<div>\n",
       "<style>\n",
       "    .dataframe thead tr:only-child th {\n",
       "        text-align: right;\n",
       "    }\n",
       "\n",
       "    .dataframe thead th {\n",
       "        text-align: left;\n",
       "    }\n",
       "\n",
       "    .dataframe tbody tr th {\n",
       "        vertical-align: top;\n",
       "    }\n",
       "</style>\n",
       "<table border=\"1\" class=\"dataframe\">\n",
       "  <thead>\n",
       "    <tr style=\"text-align: right;\">\n",
       "      <th></th>\n",
       "      <th>author</th>\n",
       "      <th>identifier</th>\n",
       "      <th>net_votes</th>\n",
       "      <th>pending_payout_value</th>\n",
       "      <th>views</th>\n",
       "    </tr>\n",
       "  </thead>\n",
       "  <tbody>\n",
       "    <tr>\n",
       "      <th>31</th>\n",
       "      <td>mys</td>\n",
       "      <td>@mys/remember-this-210-ltc-worth-puzzle-posted...</td>\n",
       "      <td>295</td>\n",
       "      <td>403.935</td>\n",
       "      <td>7284</td>\n",
       "    </tr>\n",
       "    <tr>\n",
       "      <th>1939</th>\n",
       "      <td>teamsteem</td>\n",
       "      <td>@teamsteem/some-steem-stats</td>\n",
       "      <td>1301</td>\n",
       "      <td>2378.384</td>\n",
       "      <td>3990</td>\n",
       "    </tr>\n",
       "    <tr>\n",
       "      <th>1090</th>\n",
       "      <td>thecryptofiend</td>\n",
       "      <td>@thecryptofiend/what-is-bitcoin-a-simple-guide...</td>\n",
       "      <td>711</td>\n",
       "      <td>602.051</td>\n",
       "      <td>2599</td>\n",
       "    </tr>\n",
       "    <tr>\n",
       "      <th>1840</th>\n",
       "      <td>maa</td>\n",
       "      <td>@maa/2017-5-22</td>\n",
       "      <td>142</td>\n",
       "      <td>166.567</td>\n",
       "      <td>2507</td>\n",
       "    </tr>\n",
       "    <tr>\n",
       "      <th>726</th>\n",
       "      <td>the-alien</td>\n",
       "      <td>@the-alien/it-s-not-too-late-to-get-into-crypt...</td>\n",
       "      <td>649</td>\n",
       "      <td>649.467</td>\n",
       "      <td>2384</td>\n",
       "    </tr>\n",
       "    <tr>\n",
       "      <th>1045</th>\n",
       "      <td>jerrybanfield</td>\n",
       "      <td>@jerrybanfield/10-reasons-for-usd10-steem-pric...</td>\n",
       "      <td>890</td>\n",
       "      <td>819.239</td>\n",
       "      <td>2327</td>\n",
       "    </tr>\n",
       "    <tr>\n",
       "      <th>1318</th>\n",
       "      <td>charlieshrem</td>\n",
       "      <td>@charlieshrem/steem-token-will-be-added-to-jax...</td>\n",
       "      <td>1162</td>\n",
       "      <td>1813.234</td>\n",
       "      <td>2301</td>\n",
       "    </tr>\n",
       "    <tr>\n",
       "      <th>1851</th>\n",
       "      <td>sweetsssj</td>\n",
       "      <td>@sweetsssj/travel-with-me-57-koh-samui-the-isl...</td>\n",
       "      <td>744</td>\n",
       "      <td>954.080</td>\n",
       "      <td>2288</td>\n",
       "    </tr>\n",
       "    <tr>\n",
       "      <th>1330</th>\n",
       "      <td>maa</td>\n",
       "      <td>@maa/46mpgf</td>\n",
       "      <td>115</td>\n",
       "      <td>164.862</td>\n",
       "      <td>2128</td>\n",
       "    </tr>\n",
       "    <tr>\n",
       "      <th>924</th>\n",
       "      <td>maa</td>\n",
       "      <td>@maa/4n5pp8</td>\n",
       "      <td>106</td>\n",
       "      <td>105.243</td>\n",
       "      <td>1973</td>\n",
       "    </tr>\n",
       "    <tr>\n",
       "      <th>388</th>\n",
       "      <td>notsofast</td>\n",
       "      <td>@notsofast/4-ways-to-secure-your-bags-bitcoin-...</td>\n",
       "      <td>110</td>\n",
       "      <td>176.505</td>\n",
       "      <td>1946</td>\n",
       "    </tr>\n",
       "    <tr>\n",
       "      <th>1298</th>\n",
       "      <td>jrcornel</td>\n",
       "      <td>@jrcornel/want-to-become-a-bitcoin-millionaire...</td>\n",
       "      <td>653</td>\n",
       "      <td>786.606</td>\n",
       "      <td>1907</td>\n",
       "    </tr>\n",
       "    <tr>\n",
       "      <th>762</th>\n",
       "      <td>kingscrown</td>\n",
       "      <td>@kingscrown/coins-that-dont-care-of-todays-blo...</td>\n",
       "      <td>667</td>\n",
       "      <td>839.992</td>\n",
       "      <td>1881</td>\n",
       "    </tr>\n",
       "    <tr>\n",
       "      <th>950</th>\n",
       "      <td>jesta</td>\n",
       "      <td>@jesta/vessel-006-steem-power-delegation</td>\n",
       "      <td>879</td>\n",
       "      <td>2517.355</td>\n",
       "      <td>1751</td>\n",
       "    </tr>\n",
       "    <tr>\n",
       "      <th>1248</th>\n",
       "      <td>renohq</td>\n",
       "      <td>@renohq/3ny2zm</td>\n",
       "      <td>197</td>\n",
       "      <td>299.058</td>\n",
       "      <td>1621</td>\n",
       "    </tr>\n",
       "    <tr>\n",
       "      <th>1102</th>\n",
       "      <td>marketreport</td>\n",
       "      <td>@marketreport/the-housing-bubble-is-cracking-a...</td>\n",
       "      <td>338</td>\n",
       "      <td>57.959</td>\n",
       "      <td>1466</td>\n",
       "    </tr>\n",
       "    <tr>\n",
       "      <th>353</th>\n",
       "      <td>maa</td>\n",
       "      <td>@maa/2017-5-27</td>\n",
       "      <td>139</td>\n",
       "      <td>150.476</td>\n",
       "      <td>1411</td>\n",
       "    </tr>\n",
       "    <tr>\n",
       "      <th>675</th>\n",
       "      <td>kingscrown</td>\n",
       "      <td>@kingscrown/steem-and-voting-an-important-read...</td>\n",
       "      <td>763</td>\n",
       "      <td>968.837</td>\n",
       "      <td>1287</td>\n",
       "    </tr>\n",
       "    <tr>\n",
       "      <th>1082</th>\n",
       "      <td>trogdor</td>\n",
       "      <td>@trogdor/introduction-to-eos-the-epic-blockcha...</td>\n",
       "      <td>361</td>\n",
       "      <td>374.781</td>\n",
       "      <td>1285</td>\n",
       "    </tr>\n",
       "    <tr>\n",
       "      <th>1222</th>\n",
       "      <td>kevinwong</td>\n",
       "      <td>@kevinwong/eos-a-blockchain-operating-system</td>\n",
       "      <td>451</td>\n",
       "      <td>357.842</td>\n",
       "      <td>1251</td>\n",
       "    </tr>\n",
       "    <tr>\n",
       "      <th>1911</th>\n",
       "      <td>leesunmoo</td>\n",
       "      <td>@leesunmoo/2fdaro</td>\n",
       "      <td>175</td>\n",
       "      <td>91.370</td>\n",
       "      <td>1234</td>\n",
       "    </tr>\n",
       "    <tr>\n",
       "      <th>1554</th>\n",
       "      <td>leesunmoo</td>\n",
       "      <td>@leesunmoo/3uu5vy</td>\n",
       "      <td>203</td>\n",
       "      <td>329.401</td>\n",
       "      <td>1213</td>\n",
       "    </tr>\n",
       "    <tr>\n",
       "      <th>1901</th>\n",
       "      <td>kingscrown</td>\n",
       "      <td>@kingscrown/bitcoin-going-to-2300usd-premium-g...</td>\n",
       "      <td>630</td>\n",
       "      <td>854.155</td>\n",
       "      <td>1158</td>\n",
       "    </tr>\n",
       "    <tr>\n",
       "      <th>281</th>\n",
       "      <td>trafalgar</td>\n",
       "      <td>@trafalgar/it-s-more-important-than-ever-to-po...</td>\n",
       "      <td>602</td>\n",
       "      <td>852.655</td>\n",
       "      <td>1156</td>\n",
       "    </tr>\n",
       "    <tr>\n",
       "      <th>559</th>\n",
       "      <td>furion</td>\n",
       "      <td>@furion/introducing-conductor-a-simple-steem-w...</td>\n",
       "      <td>763</td>\n",
       "      <td>1704.892</td>\n",
       "      <td>1111</td>\n",
       "    </tr>\n",
       "  </tbody>\n",
       "</table>\n",
       "</div>"
      ],
      "text/plain": [
       "              author                                         identifier  \\\n",
       "31               mys  @mys/remember-this-210-ltc-worth-puzzle-posted...   \n",
       "1939       teamsteem                        @teamsteem/some-steem-stats   \n",
       "1090  thecryptofiend  @thecryptofiend/what-is-bitcoin-a-simple-guide...   \n",
       "1840             maa                                     @maa/2017-5-22   \n",
       "726        the-alien  @the-alien/it-s-not-too-late-to-get-into-crypt...   \n",
       "1045   jerrybanfield  @jerrybanfield/10-reasons-for-usd10-steem-pric...   \n",
       "1318    charlieshrem  @charlieshrem/steem-token-will-be-added-to-jax...   \n",
       "1851       sweetsssj  @sweetsssj/travel-with-me-57-koh-samui-the-isl...   \n",
       "1330             maa                                        @maa/46mpgf   \n",
       "924              maa                                        @maa/4n5pp8   \n",
       "388        notsofast  @notsofast/4-ways-to-secure-your-bags-bitcoin-...   \n",
       "1298        jrcornel  @jrcornel/want-to-become-a-bitcoin-millionaire...   \n",
       "762       kingscrown  @kingscrown/coins-that-dont-care-of-todays-blo...   \n",
       "950            jesta           @jesta/vessel-006-steem-power-delegation   \n",
       "1248          renohq                                     @renohq/3ny2zm   \n",
       "1102    marketreport  @marketreport/the-housing-bubble-is-cracking-a...   \n",
       "353              maa                                     @maa/2017-5-27   \n",
       "675       kingscrown  @kingscrown/steem-and-voting-an-important-read...   \n",
       "1082         trogdor  @trogdor/introduction-to-eos-the-epic-blockcha...   \n",
       "1222       kevinwong       @kevinwong/eos-a-blockchain-operating-system   \n",
       "1911       leesunmoo                                  @leesunmoo/2fdaro   \n",
       "1554       leesunmoo                                  @leesunmoo/3uu5vy   \n",
       "1901      kingscrown  @kingscrown/bitcoin-going-to-2300usd-premium-g...   \n",
       "281        trafalgar  @trafalgar/it-s-more-important-than-ever-to-po...   \n",
       "559           furion  @furion/introducing-conductor-a-simple-steem-w...   \n",
       "\n",
       "      net_votes  pending_payout_value  views  \n",
       "31          295               403.935   7284  \n",
       "1939       1301              2378.384   3990  \n",
       "1090        711               602.051   2599  \n",
       "1840        142               166.567   2507  \n",
       "726         649               649.467   2384  \n",
       "1045        890               819.239   2327  \n",
       "1318       1162              1813.234   2301  \n",
       "1851        744               954.080   2288  \n",
       "1330        115               164.862   2128  \n",
       "924         106               105.243   1973  \n",
       "388         110               176.505   1946  \n",
       "1298        653               786.606   1907  \n",
       "762         667               839.992   1881  \n",
       "950         879              2517.355   1751  \n",
       "1248        197               299.058   1621  \n",
       "1102        338                57.959   1466  \n",
       "353         139               150.476   1411  \n",
       "675         763               968.837   1287  \n",
       "1082        361               374.781   1285  \n",
       "1222        451               357.842   1251  \n",
       "1911        175                91.370   1234  \n",
       "1554        203               329.401   1213  \n",
       "1901        630               854.155   1158  \n",
       "281         602               852.655   1156  \n",
       "559         763              1704.892   1111  "
      ]
     },
     "execution_count": 65,
     "metadata": {},
     "output_type": "execute_result"
    }
   ],
   "source": [
    "df3 = df2.sort_values('views', ascending=False).head(25)\n",
    "df3"
   ]
  },
  {
   "cell_type": "code",
   "execution_count": 124,
   "metadata": {},
   "outputs": [],
   "source": [
    "# df3.values"
   ]
  },
  {
   "cell_type": "code",
   "execution_count": 60,
   "metadata": {},
   "outputs": [],
   "source": []
  },
  {
   "cell_type": "code",
   "execution_count": null,
   "metadata": {
    "collapsed": true
   },
   "outputs": [],
   "source": [
    "from prettytable import PrettyTable\n",
    "\n",
    "t = PrettyTable([])"
   ]
  },
  {
   "cell_type": "code",
   "execution_count": null,
   "metadata": {
    "collapsed": true
   },
   "outputs": [],
   "source": []
  },
  {
   "cell_type": "code",
   "execution_count": null,
   "metadata": {
    "collapsed": true
   },
   "outputs": [],
   "source": []
  },
  {
   "cell_type": "markdown",
   "metadata": {},
   "source": [
    "## Top Posts by Languages"
   ]
  },
  {
   "cell_type": "code",
   "execution_count": 92,
   "metadata": {
    "collapsed": true
   },
   "outputs": [],
   "source": [
    "# time constraints\n",
    "time_constraints = {\n",
    "    '$gte': dt.datetime.now() - dt.timedelta(days=7),\n",
    "}\n",
    "conditions = {\n",
    "    'created': time_constraints,\n",
    "    'net_votes': {'$gt': 3},\n",
    "    'children': {'$gt': 1},\n",
    "}\n",
    "projection = {\n",
    "    '_id': 0,\n",
    "    'identifier': 1,\n",
    "    'title': 1,\n",
    "    'author': 1,\n",
    "    'body': 1,\n",
    "}\n",
    "lang_posts = list(db['Posts'].find(conditions, projection=projection))"
   ]
  },
  {
   "cell_type": "code",
   "execution_count": 109,
   "metadata": {},
   "outputs": [
    {
     "data": {
      "text/plain": [
       "7443"
      ]
     },
     "execution_count": 109,
     "metadata": {},
     "output_type": "execute_result"
    }
   ],
   "source": [
    "len(lang_posts)"
   ]
  },
  {
   "cell_type": "code",
   "execution_count": 123,
   "metadata": {},
   "outputs": [],
   "source": [
    "from langdetect import detect_langs\n",
    "from funcy.colls import pluck\n",
    "from funcy.seqs import first, last\n",
    "from toolz.functoolz import compose, thread_last\n",
    "from contextlib import suppress\n",
    "from collections import Counter"
   ]
  },
  {
   "cell_type": "code",
   "execution_count": 111,
   "metadata": {
    "collapsed": true
   },
   "outputs": [],
   "source": [
    "def detect(body):\n",
    "    with suppress(Exception):\n",
    "        langs = detect_langs(body)\n",
    "        if langs:\n",
    "            return first(langs)\n",
    "    \n",
    "    return []"
   ]
  },
  {
   "cell_type": "code",
   "execution_count": 117,
   "metadata": {
    "scrolled": true
   },
   "outputs": [],
   "source": [
    "languages = thread_last(\n",
    "    filter(lambda x: len(x['body']) > 100, lang_posts),\n",
    "    (pluck, 'body'),\n",
    "    (map, detect),\n",
    "    (filter, bool)\n",
    ")"
   ]
  },
  {
   "cell_type": "code",
   "execution_count": 118,
   "metadata": {},
   "outputs": [],
   "source": [
    "languages = [x.lang for x in languages if x and x.prob > 0.8]"
   ]
  },
  {
   "cell_type": "code",
   "execution_count": 121,
   "metadata": {
    "collapsed": true
   },
   "outputs": [],
   "source": [
    "c = Counter(languages)"
   ]
  },
  {
   "cell_type": "code",
   "execution_count": 122,
   "metadata": {},
   "outputs": [
    {
     "data": {
      "text/plain": [
       "[('en', 6219),\n",
       " ('ko', 369),\n",
       " ('es', 167),\n",
       " ('de', 137),\n",
       " ('id', 52),\n",
       " ('hr', 20),\n",
       " ('pl', 13),\n",
       " ('tr', 12),\n",
       " ('af', 11),\n",
       " ('tl', 10)]"
      ]
     },
     "execution_count": 122,
     "metadata": {},
     "output_type": "execute_result"
    }
   ],
   "source": [
    "c.most_common(10)"
   ]
  },
  {
   "cell_type": "code",
   "execution_count": 145,
   "metadata": {
    "collapsed": true
   },
   "outputs": [],
   "source": [
    "normalized = [{'language': first(x), 'pct_share': round(last(x) / len(languages) * 100, 3)} for x in c.most_common(10)]"
   ]
  },
  {
   "cell_type": "code",
   "execution_count": 146,
   "metadata": {},
   "outputs": [
    {
     "data": {
      "text/plain": [
       "[{'language': 'en', 'pct_share': 88.15},\n",
       " {'language': 'ko', 'pct_share': 5.23},\n",
       " {'language': 'es', 'pct_share': 2.367},\n",
       " {'language': 'de', 'pct_share': 1.942},\n",
       " {'language': 'id', 'pct_share': 0.737},\n",
       " {'language': 'hr', 'pct_share': 0.283},\n",
       " {'language': 'pl', 'pct_share': 0.184},\n",
       " {'language': 'tr', 'pct_share': 0.17},\n",
       " {'language': 'af', 'pct_share': 0.156},\n",
       " {'language': 'tl', 'pct_share': 0.142}]"
      ]
     },
     "execution_count": 146,
     "metadata": {},
     "output_type": "execute_result"
    }
   ],
   "source": [
    "normalized"
   ]
  },
  {
   "cell_type": "code",
   "execution_count": 149,
   "metadata": {
    "collapsed": true
   },
   "outputs": [],
   "source": [
    "df = pd.DataFrame(normalized)\n",
    "df.index = range(1,len(df)+1)"
   ]
  },
  {
   "cell_type": "code",
   "execution_count": 150,
   "metadata": {},
   "outputs": [
    {
     "data": {
      "text/html": [
       "<div>\n",
       "<style>\n",
       "    .dataframe thead tr:only-child th {\n",
       "        text-align: right;\n",
       "    }\n",
       "\n",
       "    .dataframe thead th {\n",
       "        text-align: left;\n",
       "    }\n",
       "\n",
       "    .dataframe tbody tr th {\n",
       "        vertical-align: top;\n",
       "    }\n",
       "</style>\n",
       "<table border=\"1\" class=\"dataframe\">\n",
       "  <thead>\n",
       "    <tr style=\"text-align: right;\">\n",
       "      <th></th>\n",
       "      <th>language</th>\n",
       "      <th>pct_share</th>\n",
       "    </tr>\n",
       "  </thead>\n",
       "  <tbody>\n",
       "    <tr>\n",
       "      <th>1</th>\n",
       "      <td>en</td>\n",
       "      <td>88.150</td>\n",
       "    </tr>\n",
       "    <tr>\n",
       "      <th>2</th>\n",
       "      <td>ko</td>\n",
       "      <td>5.230</td>\n",
       "    </tr>\n",
       "    <tr>\n",
       "      <th>3</th>\n",
       "      <td>es</td>\n",
       "      <td>2.367</td>\n",
       "    </tr>\n",
       "    <tr>\n",
       "      <th>4</th>\n",
       "      <td>de</td>\n",
       "      <td>1.942</td>\n",
       "    </tr>\n",
       "    <tr>\n",
       "      <th>5</th>\n",
       "      <td>id</td>\n",
       "      <td>0.737</td>\n",
       "    </tr>\n",
       "    <tr>\n",
       "      <th>6</th>\n",
       "      <td>hr</td>\n",
       "      <td>0.283</td>\n",
       "    </tr>\n",
       "    <tr>\n",
       "      <th>7</th>\n",
       "      <td>pl</td>\n",
       "      <td>0.184</td>\n",
       "    </tr>\n",
       "    <tr>\n",
       "      <th>8</th>\n",
       "      <td>tr</td>\n",
       "      <td>0.170</td>\n",
       "    </tr>\n",
       "    <tr>\n",
       "      <th>9</th>\n",
       "      <td>af</td>\n",
       "      <td>0.156</td>\n",
       "    </tr>\n",
       "    <tr>\n",
       "      <th>10</th>\n",
       "      <td>tl</td>\n",
       "      <td>0.142</td>\n",
       "    </tr>\n",
       "  </tbody>\n",
       "</table>\n",
       "</div>"
      ],
      "text/plain": [
       "   language  pct_share\n",
       "1        en     88.150\n",
       "2        ko      5.230\n",
       "3        es      2.367\n",
       "4        de      1.942\n",
       "5        id      0.737\n",
       "6        hr      0.283\n",
       "7        pl      0.184\n",
       "8        tr      0.170\n",
       "9        af      0.156\n",
       "10       tl      0.142"
      ]
     },
     "execution_count": 150,
     "metadata": {},
     "output_type": "execute_result"
    }
   ],
   "source": [
    "df.head(10)"
   ]
  },
  {
   "cell_type": "code",
   "execution_count": 134,
   "metadata": {},
   "outputs": [
    {
     "data": {
      "text/html": [
       "<iframe id=\"igraph\" scrolling=\"no\" style=\"border:none;\" seamless=\"seamless\" src=\"https://plot.ly/~plotlyfurion/30.embed\" height=\"525px\" width=\"100%\"></iframe>"
      ],
      "text/plain": [
       "<plotly.tools.PlotlyDisplay object>"
      ]
     },
     "execution_count": 134,
     "metadata": {},
     "output_type": "execute_result"
    }
   ],
   "source": [
    "import plotly.plotly as py\n",
    "import plotly.graph_objs as go\n",
    "\n",
    "labels = [first(x) for x in c.most_common(7)]\n",
    "values = [last(x) for x in c.most_common(7)]\n",
    "colors = ['#FEBFB3', '#E1396C', '#96D38C', '#D0F9B1']\n",
    "\n",
    "trace = go.Pie(labels=labels, values=values,\n",
    "               hoverinfo='label+percent', textinfo='label', \n",
    "               textfont=dict(size=20),\n",
    "               marker=dict(colors=colors, \n",
    "                           line=dict(color='#000000', width=2)))\n",
    "\n",
    "py.iplot([trace], filename='styled_pie_chart')"
   ]
  },
  {
   "cell_type": "code",
   "execution_count": 151,
   "metadata": {
    "collapsed": true
   },
   "outputs": [],
   "source": [
    "## todo, create a distinct filter on author field, to count % as unique persons, not as number of posts"
   ]
  },
  {
   "cell_type": "code",
   "execution_count": null,
   "metadata": {
    "collapsed": true
   },
   "outputs": [],
   "source": []
  }
 ],
 "metadata": {
  "kernelspec": {
   "display_name": "Python 3",
   "language": "python",
   "name": "python3"
  },
  "language_info": {
   "codemirror_mode": {
    "name": "ipython",
    "version": 3
   },
   "file_extension": ".py",
   "mimetype": "text/x-python",
   "name": "python",
   "nbconvert_exporter": "python",
   "pygments_lexer": "ipython3",
   "version": "3.6.1"
  }
 },
 "nbformat": 4,
 "nbformat_minor": 2
}
