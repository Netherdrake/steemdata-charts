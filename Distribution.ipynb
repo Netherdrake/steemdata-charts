{
 "cells": [
  {
   "cell_type": "code",
   "execution_count": 28,
   "metadata": {
    "collapsed": true
   },
   "outputs": [],
   "source": [
    "import datetime as dt\n",
    "from steemdata import SteemData\n",
    "\n",
    "import pandas as pd\n",
    "import numpy as np\n",
    "\n",
    "import plotly.plotly as py\n",
    "import plotly.graph_objs as go\n",
    "import cufflinks as cf\n",
    "\n",
    "# helpers\n",
    "from toolz import keyfilter\n",
    "\n",
    "def keep(d, whitelist):\n",
    "    return keyfilter(lambda k: k in whitelist, d)\n",
    "\n",
    "def omit(d, blacklist):\n",
    "    return keyfilter(lambda k: k not in blacklist, d)"
   ]
  },
  {
   "cell_type": "code",
   "execution_count": 2,
   "metadata": {
    "collapsed": true
   },
   "outputs": [],
   "source": [
    "db = SteemData().db"
   ]
  },
  {
   "cell_type": "code",
   "execution_count": null,
   "metadata": {
    "collapsed": true
   },
   "outputs": [],
   "source": []
  },
  {
   "cell_type": "code",
   "execution_count": 3,
   "metadata": {
    "collapsed": true
   },
   "outputs": [],
   "source": [
    "# app specific imports\n",
    "from funcy.seqs import first\n",
    "from toolz.functoolz import pipe\n",
    "from steem.account import Account\n",
    "from steem.utils import parse_time"
   ]
  },
  {
   "cell_type": "code",
   "execution_count": null,
   "metadata": {
    "collapsed": true
   },
   "outputs": [],
   "source": []
  },
  {
   "cell_type": "markdown",
   "metadata": {},
   "source": [
    "## Eligible Accounts\n",
    "\n",
    "Rules:\n",
    "1. Need to have at least 0.15MV\n",
    "2. Need to have been active in the past 6 months"
   ]
  },
  {
   "cell_type": "code",
   "execution_count": 52,
   "metadata": {
    "collapsed": true
   },
   "outputs": [],
   "source": [
    "from steem.converter import Converter\n",
    "c = Converter()\n",
    "min_vests = c.sp_to_vests(100)\n",
    "max_vests = c.sp_to_vests(50000)"
   ]
  },
  {
   "cell_type": "code",
   "execution_count": 5,
   "metadata": {
    "collapsed": true
   },
   "outputs": [],
   "source": [
    "conditions = {\n",
    "    'balances.available.VESTS': {'$gt': min_vests},\n",
    "}\n",
    "projection = {\n",
    "    '_id': 0,\n",
    "    'name': 1,\n",
    "    'balances.available.VESTS': 1,\n",
    "}\n",
    "accounts = list(db['Accounts'].find(conditions, projection=projection))"
   ]
  },
  {
   "cell_type": "code",
   "execution_count": 6,
   "metadata": {},
   "outputs": [
    {
     "data": {
      "text/plain": [
       "11524"
      ]
     },
     "execution_count": 6,
     "metadata": {},
     "output_type": "execute_result"
    }
   ],
   "source": [
    "len(accounts)"
   ]
  },
  {
   "cell_type": "code",
   "execution_count": 7,
   "metadata": {
    "collapsed": true
   },
   "outputs": [],
   "source": [
    "def last_op_time(username):\n",
    "    history = Account(username).history_reverse(batch_size=10)\n",
    "    last_item = first(history)\n",
    "    if last_item:\n",
    "        return parse_time(last_item['timestamp'])\n",
    "    \n",
    "def filter_inactive(accounts):\n",
    "    limit = dt.datetime.now() - dt.timedelta(days=180)\n",
    "    return list(x for x in accounts if x['timestamp'] > limit)\n",
    "\n",
    "def filter_invalid(accounts):\n",
    "    return list(x for x in accounts if x['timestamp'])"
   ]
  },
  {
   "cell_type": "code",
   "execution_count": 8,
   "metadata": {
    "collapsed": true
   },
   "outputs": [],
   "source": [
    "accounts = [{\n",
    "    'name': account['name'],\n",
    "    'timestamp': last_op_time(account['name']),\n",
    "    'vests': account['balances']['available']['VESTS'],\n",
    "} for account in accounts]"
   ]
  },
  {
   "cell_type": "code",
   "execution_count": 9,
   "metadata": {
    "collapsed": true
   },
   "outputs": [],
   "source": [
    "valid_accounts = pipe(accounts, filter_invalid, filter_inactive)"
   ]
  },
  {
   "cell_type": "code",
   "execution_count": null,
   "metadata": {
    "collapsed": true
   },
   "outputs": [],
   "source": []
  },
  {
   "cell_type": "code",
   "execution_count": 68,
   "metadata": {
    "collapsed": true
   },
   "outputs": [],
   "source": [
    "def maxval(val, _max=max_vests):\n",
    "    if val > _max:\n",
    "        return _max\n",
    "    return val"
   ]
  },
  {
   "cell_type": "code",
   "execution_count": 69,
   "metadata": {},
   "outputs": [],
   "source": [
    "df = pd.DataFrame(valid_accounts)\n",
    "df.drop('timestamp', axis=1, inplace=True)\n",
    "\n",
    "# ignore steemit account\n",
    "df.drop(df[df.name.isin(['steemit', 'poloniex'])].index, inplace=True)\n",
    "\n",
    "# ceil max allowable vests\n",
    "df['vests'] = df['vests'].apply(maxval)\n",
    "\n",
    "# count the vests, calc % shares\n",
    "all_vests = df['vests'].sum()\n",
    "df['pct_share'] = df['vests'] / all_vests * 100\n",
    "df['token_share'] = df['vests'] / all_vests * 1_000_000"
   ]
  },
  {
   "cell_type": "code",
   "execution_count": null,
   "metadata": {
    "collapsed": true
   },
   "outputs": [],
   "source": []
  },
  {
   "cell_type": "code",
   "execution_count": 70,
   "metadata": {},
   "outputs": [
    {
     "data": {
      "text/html": [
       "<div>\n",
       "<style>\n",
       "    .dataframe thead tr:only-child th {\n",
       "        text-align: right;\n",
       "    }\n",
       "\n",
       "    .dataframe thead th {\n",
       "        text-align: left;\n",
       "    }\n",
       "\n",
       "    .dataframe tbody tr th {\n",
       "        vertical-align: top;\n",
       "    }\n",
       "</style>\n",
       "<table border=\"1\" class=\"dataframe\">\n",
       "  <thead>\n",
       "    <tr style=\"text-align: right;\">\n",
       "      <th></th>\n",
       "      <th>name</th>\n",
       "      <th>vests</th>\n",
       "      <th>pct_share</th>\n",
       "      <th>token_share</th>\n",
       "    </tr>\n",
       "  </thead>\n",
       "  <tbody>\n",
       "    <tr>\n",
       "      <th>4383</th>\n",
       "      <td>kushed</td>\n",
       "      <td>1.035075e+08</td>\n",
       "      <td>0.170474</td>\n",
       "      <td>1704.740256</td>\n",
       "    </tr>\n",
       "    <tr>\n",
       "      <th>8290</th>\n",
       "      <td>urbanoid</td>\n",
       "      <td>1.035075e+08</td>\n",
       "      <td>0.170474</td>\n",
       "      <td>1704.740256</td>\n",
       "    </tr>\n",
       "    <tr>\n",
       "      <th>4637</th>\n",
       "      <td>lofojobee</td>\n",
       "      <td>1.035075e+08</td>\n",
       "      <td>0.170474</td>\n",
       "      <td>1704.740256</td>\n",
       "    </tr>\n",
       "    <tr>\n",
       "      <th>8306</th>\n",
       "      <td>val-b</td>\n",
       "      <td>1.035075e+08</td>\n",
       "      <td>0.170474</td>\n",
       "      <td>1704.740256</td>\n",
       "    </tr>\n",
       "    <tr>\n",
       "      <th>8305</th>\n",
       "      <td>val-a</td>\n",
       "      <td>1.035075e+08</td>\n",
       "      <td>0.170474</td>\n",
       "      <td>1704.740256</td>\n",
       "    </tr>\n",
       "  </tbody>\n",
       "</table>\n",
       "</div>"
      ],
      "text/plain": [
       "           name         vests  pct_share  token_share\n",
       "4383     kushed  1.035075e+08   0.170474  1704.740256\n",
       "8290   urbanoid  1.035075e+08   0.170474  1704.740256\n",
       "4637  lofojobee  1.035075e+08   0.170474  1704.740256\n",
       "8306      val-b  1.035075e+08   0.170474  1704.740256\n",
       "8305      val-a  1.035075e+08   0.170474  1704.740256"
      ]
     },
     "execution_count": 70,
     "metadata": {},
     "output_type": "execute_result"
    }
   ],
   "source": [
    "df_sorted = df.sort_values('vests', ascending=False)\n",
    "df_sorted.head()"
   ]
  },
  {
   "cell_type": "code",
   "execution_count": 71,
   "metadata": {
    "collapsed": true
   },
   "outputs": [],
   "source": [
    "df_sorted[['name', 'vests', 'pct_share', 'token_share']].to_json('raw_dist.json', orient='records')"
   ]
  },
  {
   "cell_type": "code",
   "execution_count": 72,
   "metadata": {
    "collapsed": true
   },
   "outputs": [],
   "source": [
    "!cat raw_dist.json | python -m 'json.tool' > distribution.json"
   ]
  },
  {
   "cell_type": "code",
   "execution_count": null,
   "metadata": {
    "collapsed": true
   },
   "outputs": [],
   "source": []
  },
  {
   "cell_type": "code",
   "execution_count": 40,
   "metadata": {},
   "outputs": [],
   "source": [
    "df_sorted.iplot?"
   ]
  },
  {
   "cell_type": "code",
   "execution_count": 46,
   "metadata": {
    "scrolled": true
   },
   "outputs": [
    {
     "data": {
      "text/html": [
       "<div>\n",
       "<style>\n",
       "    .dataframe thead tr:only-child th {\n",
       "        text-align: right;\n",
       "    }\n",
       "\n",
       "    .dataframe thead th {\n",
       "        text-align: left;\n",
       "    }\n",
       "\n",
       "    .dataframe tbody tr th {\n",
       "        vertical-align: top;\n",
       "    }\n",
       "</style>\n",
       "<table border=\"1\" class=\"dataframe\">\n",
       "  <thead>\n",
       "    <tr style=\"text-align: right;\">\n",
       "      <th></th>\n",
       "      <th>name</th>\n",
       "      <th>vests</th>\n",
       "      <th>pct_share</th>\n",
       "      <th>token_share</th>\n",
       "    </tr>\n",
       "  </thead>\n",
       "  <tbody>\n",
       "    <tr>\n",
       "      <th>505</th>\n",
       "      <td>arhag</td>\n",
       "      <td>2.070154e+08</td>\n",
       "      <td>0.274875</td>\n",
       "      <td>2748.746009</td>\n",
       "    </tr>\n",
       "    <tr>\n",
       "      <th>8227</th>\n",
       "      <td>twinner</td>\n",
       "      <td>2.070154e+08</td>\n",
       "      <td>0.274875</td>\n",
       "      <td>2748.746009</td>\n",
       "    </tr>\n",
       "    <tr>\n",
       "      <th>445</th>\n",
       "      <td>wackou</td>\n",
       "      <td>2.070154e+08</td>\n",
       "      <td>0.274875</td>\n",
       "      <td>2748.746009</td>\n",
       "    </tr>\n",
       "    <tr>\n",
       "      <th>6232</th>\n",
       "      <td>ramta</td>\n",
       "      <td>2.070154e+08</td>\n",
       "      <td>0.274875</td>\n",
       "      <td>2748.746009</td>\n",
       "    </tr>\n",
       "    <tr>\n",
       "      <th>3557</th>\n",
       "      <td>inv</td>\n",
       "      <td>2.070154e+08</td>\n",
       "      <td>0.274875</td>\n",
       "      <td>2748.746009</td>\n",
       "    </tr>\n",
       "  </tbody>\n",
       "</table>\n",
       "</div>"
      ],
      "text/plain": [
       "         name         vests  pct_share  token_share\n",
       "505     arhag  2.070154e+08   0.274875  2748.746009\n",
       "8227  twinner  2.070154e+08   0.274875  2748.746009\n",
       "445    wackou  2.070154e+08   0.274875  2748.746009\n",
       "6232    ramta  2.070154e+08   0.274875  2748.746009\n",
       "3557      inv  2.070154e+08   0.274875  2748.746009"
      ]
     },
     "execution_count": 46,
     "metadata": {},
     "output_type": "execute_result"
    }
   ],
   "source": [
    "df.sort_values('token_share', ascending=False).head()"
   ]
  },
  {
   "cell_type": "code",
   "execution_count": 64,
   "metadata": {},
   "outputs": [
    {
     "data": {
      "text/html": [
       "<iframe id=\"igraph\" scrolling=\"no\" style=\"border:none;\" seamless=\"seamless\" src=\"https://plot.ly/~furion/218.embed\" height=\"525px\" width=\"100%\"></iframe>"
      ],
      "text/plain": [
       "<plotly.tools.PlotlyDisplay object>"
      ]
     },
     "execution_count": 64,
     "metadata": {},
     "output_type": "execute_result"
    }
   ],
   "source": [
    "df.sort_values('token_share').iplot(\n",
    "    x='name',\n",
    "    y='token_share',\n",
    "    kind='line',\n",
    "    fill=True,\n",
    "    title='Token Distribution',\n",
    "    colors=['blue', 'orange'],\n",
    "    theme='white',\n",
    "    legend=False,\n",
    "    yTitle='Tokens Awarded',\n",
    "    filename='hypothetical-token-dist'\n",
    ")"
   ]
  },
  {
   "cell_type": "code",
   "execution_count": null,
   "metadata": {
    "collapsed": true
   },
   "outputs": [],
   "source": []
  }
 ],
 "metadata": {
  "kernelspec": {
   "display_name": "Python 3",
   "language": "python",
   "name": "python3"
  },
  "language_info": {
   "codemirror_mode": {
    "name": "ipython",
    "version": 3
   },
   "file_extension": ".py",
   "mimetype": "text/x-python",
   "name": "python",
   "nbconvert_exporter": "python",
   "pygments_lexer": "ipython3",
   "version": "3.6.1"
  }
 },
 "nbformat": 4,
 "nbformat_minor": 2
}
