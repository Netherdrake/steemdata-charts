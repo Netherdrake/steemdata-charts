{
 "cells": [
  {
   "cell_type": "code",
   "execution_count": 3,
   "metadata": {
    "collapsed": true
   },
   "outputs": [],
   "source": [
    "import datetime as dt\n",
    "from steemdata import SteemData\n",
    "\n",
    "import pandas as pd\n",
    "import numpy as np\n",
    "\n",
    "try:\n",
    "    import plotly.plotly as py\n",
    "    import plotly.graph_objs as go\n",
    "    import cufflinks as cf\n",
    "except:\n",
    "    !pip install plotly\n",
    "    !pip install cufflinks\n",
    "    \n",
    "# helpers\n",
    "from toolz import keyfilter\n",
    "\n",
    "def keep(d, whitelist):\n",
    "    return keyfilter(lambda k: k in whitelist, d)\n",
    "\n",
    "def omit(d, blacklist):\n",
    "    return keyfilter(lambda k: k not in blacklist, d)"
   ]
  },
  {
   "cell_type": "code",
   "execution_count": 4,
   "metadata": {
    "collapsed": true
   },
   "outputs": [],
   "source": [
    "db = SteemData().db"
   ]
  },
  {
   "cell_type": "code",
   "execution_count": null,
   "metadata": {
    "collapsed": true
   },
   "outputs": [],
   "source": []
  },
  {
   "cell_type": "code",
   "execution_count": 56,
   "metadata": {
    "collapsed": true
   },
   "outputs": [],
   "source": [
    "# app specific imports\n",
    "from funcy.seqs import first\n",
    "from toolz.functoolz import pipe\n",
    "from steem.account import Account\n",
    "from steem.utils import parse_time"
   ]
  },
  {
   "cell_type": "code",
   "execution_count": null,
   "metadata": {
    "collapsed": true
   },
   "outputs": [],
   "source": []
  },
  {
   "cell_type": "markdown",
   "metadata": {},
   "source": [
    "## Eligible Accounts\n",
    "\n",
    "Rules:\n",
    "1. Need to have at least 0.15MV\n",
    "2. Need to have been active in the past 6 months"
   ]
  },
  {
   "cell_type": "code",
   "execution_count": 58,
   "metadata": {
    "collapsed": true
   },
   "outputs": [],
   "source": [
    "conditions = {\n",
    "    'balances.available.VESTS': {'$gt': 150000},\n",
    "}\n",
    "projection = {\n",
    "    '_id': 0,\n",
    "    'name': 1,\n",
    "    'balances.available.VESTS': 1,\n",
    "}\n",
    "accounts = list(db['Accounts'].find(conditions, projection=projection))"
   ]
  },
  {
   "cell_type": "code",
   "execution_count": 59,
   "metadata": {},
   "outputs": [
    {
     "data": {
      "text/plain": [
       "10868"
      ]
     },
     "execution_count": 59,
     "metadata": {},
     "output_type": "execute_result"
    }
   ],
   "source": [
    "len(accounts)"
   ]
  },
  {
   "cell_type": "code",
   "execution_count": 60,
   "metadata": {
    "collapsed": true
   },
   "outputs": [],
   "source": [
    "def last_op_time(username):\n",
    "    history = Account(username).history_reverse(batch_size=10)\n",
    "    last_item = first(history)\n",
    "    if last_item:\n",
    "        return parse_time(last_item['timestamp'])\n",
    "    \n",
    "def filter_inactive(accounts):\n",
    "    limit = dt.datetime.now() - dt.timedelta(days=180)\n",
    "    return list(x for x in accounts if x['timestamp'] > limit)\n",
    "\n",
    "def filter_invalid(accounts):\n",
    "    return list(x for x in accounts if x['timestamp'])"
   ]
  },
  {
   "cell_type": "code",
   "execution_count": 61,
   "metadata": {
    "collapsed": true
   },
   "outputs": [],
   "source": [
    "accounts = [{\n",
    "    'name': account['name'],\n",
    "    'timestamp': last_op_time(account['name']),\n",
    "    'vests': account['balances']['available']['VESTS'],\n",
    "} for account in accounts]"
   ]
  },
  {
   "cell_type": "code",
   "execution_count": 62,
   "metadata": {
    "collapsed": true
   },
   "outputs": [],
   "source": [
    "valid_accounts = pipe(accounts, filter_invalid, filter_inactive)"
   ]
  },
  {
   "cell_type": "code",
   "execution_count": null,
   "metadata": {
    "collapsed": true
   },
   "outputs": [],
   "source": []
  },
  {
   "cell_type": "code",
   "execution_count": 92,
   "metadata": {
    "collapsed": true
   },
   "outputs": [],
   "source": [
    "df = pd.DataFrame(valid_accounts)\n",
    "df.drop('timestamp', axis=1, inplace=True)\n",
    "\n",
    "# ignore steemit account\n",
    "df.drop(df[df.name == 'steemit'].index, inplace=True)\n",
    "\n",
    "# count the vests, calc % shares\n",
    "all_vests = df['vests'].sum()\n",
    "df['pct_share'] = df['vests'] / all_vests * 100"
   ]
  },
  {
   "cell_type": "code",
   "execution_count": null,
   "metadata": {
    "collapsed": true
   },
   "outputs": [],
   "source": []
  },
  {
   "cell_type": "code",
   "execution_count": 94,
   "metadata": {},
   "outputs": [
    {
     "data": {
      "text/html": [
       "<div>\n",
       "<style>\n",
       "    .dataframe thead tr:only-child th {\n",
       "        text-align: right;\n",
       "    }\n",
       "\n",
       "    .dataframe thead th {\n",
       "        text-align: left;\n",
       "    }\n",
       "\n",
       "    .dataframe tbody tr th {\n",
       "        vertical-align: top;\n",
       "    }\n",
       "</style>\n",
       "<table border=\"1\" class=\"dataframe\">\n",
       "  <thead>\n",
       "    <tr style=\"text-align: right;\">\n",
       "      <th></th>\n",
       "      <th>name</th>\n",
       "      <th>vests</th>\n",
       "      <th>pct_share</th>\n",
       "    </tr>\n",
       "  </thead>\n",
       "  <tbody>\n",
       "    <tr>\n",
       "      <th>2720</th>\n",
       "      <td>freedom</td>\n",
       "      <td>1.486543e+10</td>\n",
       "      <td>7.394485</td>\n",
       "    </tr>\n",
       "    <tr>\n",
       "      <th>5442</th>\n",
       "      <td>ned</td>\n",
       "      <td>1.193423e+10</td>\n",
       "      <td>5.936424</td>\n",
       "    </tr>\n",
       "    <tr>\n",
       "      <th>1837</th>\n",
       "      <td>dan</td>\n",
       "      <td>8.798098e+09</td>\n",
       "      <td>4.376423</td>\n",
       "    </tr>\n",
       "    <tr>\n",
       "      <th>2525</th>\n",
       "      <td>steem</td>\n",
       "      <td>8.013334e+09</td>\n",
       "      <td>3.986060</td>\n",
       "    </tr>\n",
       "    <tr>\n",
       "      <th>8250</th>\n",
       "      <td>val-a</td>\n",
       "      <td>6.219531e+09</td>\n",
       "      <td>3.093771</td>\n",
       "    </tr>\n",
       "  </tbody>\n",
       "</table>\n",
       "</div>"
      ],
      "text/plain": [
       "         name         vests  pct_share\n",
       "2720  freedom  1.486543e+10   7.394485\n",
       "5442      ned  1.193423e+10   5.936424\n",
       "1837      dan  8.798098e+09   4.376423\n",
       "2525    steem  8.013334e+09   3.986060\n",
       "8250    val-a  6.219531e+09   3.093771"
      ]
     },
     "execution_count": 94,
     "metadata": {},
     "output_type": "execute_result"
    }
   ],
   "source": [
    "df_sorted = df.sort_values('vests', ascending=False)\n",
    "df_sorted.head()"
   ]
  },
  {
   "cell_type": "code",
   "execution_count": 104,
   "metadata": {
    "collapsed": true
   },
   "outputs": [],
   "source": [
    "df_sorted[['name', 'vests', 'pct_share']].to_json('raw_dist.json', orient='records')"
   ]
  },
  {
   "cell_type": "code",
   "execution_count": 106,
   "metadata": {
    "collapsed": true
   },
   "outputs": [],
   "source": [
    "!cat raw_dist.json | python -m 'json.tool' > distribution.json"
   ]
  },
  {
   "cell_type": "code",
   "execution_count": null,
   "metadata": {
    "collapsed": true
   },
   "outputs": [],
   "source": []
  }
 ],
 "metadata": {
  "kernelspec": {
   "display_name": "Python 3",
   "language": "python",
   "name": "python3"
  },
  "language_info": {
   "codemirror_mode": {
    "name": "ipython",
    "version": 3
   },
   "file_extension": ".py",
   "mimetype": "text/x-python",
   "name": "python",
   "nbconvert_exporter": "python",
   "pygments_lexer": "ipython3",
   "version": "3.6.1"
  }
 },
 "nbformat": 4,
 "nbformat_minor": 2
}
