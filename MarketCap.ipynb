{
 "cells": [
  {
   "cell_type": "code",
   "execution_count": 1,
   "metadata": {
    "collapsed": true
   },
   "outputs": [],
   "source": [
    "import datetime as dt\n",
    "from funcy import walk_values, join, flatten, first, rest, rpartial\n",
    "\n",
    "import pandas as pd\n",
    "import numpy as np\n",
    "\n",
    "import plotly.plotly as py\n",
    "import plotly.graph_objs as go\n",
    "import cufflinks as cf"
   ]
  },
  {
   "cell_type": "code",
   "execution_count": null,
   "metadata": {
    "collapsed": true
   },
   "outputs": [],
   "source": []
  },
  {
   "cell_type": "code",
   "execution_count": 2,
   "metadata": {
    "collapsed": true
   },
   "outputs": [],
   "source": [
    "# helpers\n",
    "from toolz import keyfilter\n",
    "\n",
    "def keep(d, whitelist):\n",
    "    return keyfilter(lambda k: k in whitelist, d)\n",
    "\n",
    "def omit(d, blacklist):\n",
    "    return keyfilter(lambda k: k not in blacklist, d)"
   ]
  },
  {
   "cell_type": "code",
   "execution_count": null,
   "metadata": {
    "collapsed": true
   },
   "outputs": [],
   "source": []
  },
  {
   "cell_type": "code",
   "execution_count": 3,
   "metadata": {
    "collapsed": true
   },
   "outputs": [],
   "source": [
    "import requests\n",
    "\n",
    "def historic_data(urls=None):\n",
    "    return list(map(lambda x: requests.get(x).json(), urls))\n",
    "\n",
    "def merge_historic_data(historic_data):\n",
    "    \"\"\" Simplify and flatten all historic data into a single list of events.\"\"\"\n",
    "    data = []\n",
    "    for hist in historic_data:\n",
    "        data.append([simplify_fragment(x) for x in hist['history'].values()])\n",
    "    return list(flatten(data))\n",
    "\n",
    "def simplify_fragment(obj):\n",
    "    \"\"\" Simplify and flatten individual fragment.\"\"\"\n",
    "    # clean up the mess\n",
    "    def replace_values(val):\n",
    "        if type(val) == dict:\n",
    "            return walk_values(replace_values, val)\n",
    "        if val == \"?\" or val == 'None':\n",
    "            return 0\n",
    "        return val\n",
    "    obj = walk_values(replace_values, obj)\n",
    "    \n",
    "    return {\n",
    "        'symbol': obj['symbol'],\n",
    "        'category': obj['category'],\n",
    "        'supply': obj['availableSupply'],\n",
    "        'position': int(obj['position']),\n",
    "        'cap_usd': round(float(obj['marketCap']['usd'])),\n",
    "        'cap_btc': round(float(obj['marketCap']['btc'])),\n",
    "        'volume_btc': round(float(obj['volume24']['btc'])),\n",
    "        'price_usd': float(obj['price']['usd']),\n",
    "        'price_btc': float(obj['price']['btc']),\n",
    "        'timestamp': dt.datetime.fromtimestamp(obj['timestamp'])\n",
    "\n",
    "    }\n",
    "\n",
    "\n",
    "chart_filter = rpartial(\n",
    "    keep,\n",
    "    ['symbol', 'timestamp', 'price_usd', 'price_btc', 'cap_usd', 'volume_btc', 'supply'],\n",
    ")\n",
    "\n",
    "def simplify_hist_data(historic_data):\n",
    "    return [keep(x, ['symbol', 'timestamp', 'price_usd']) for x in historic_data]"
   ]
  },
  {
   "cell_type": "code",
   "execution_count": null,
   "metadata": {
    "collapsed": true
   },
   "outputs": [],
   "source": []
  },
  {
   "cell_type": "code",
   "execution_count": 4,
   "metadata": {
    "collapsed": true
   },
   "outputs": [],
   "source": [
    "steem_urls = [\n",
    "    'http://coinmarketcap.northpole.ro/api/v6/history/STEEM_2016.json',\n",
    "    'http://coinmarketcap.northpole.ro/api/v6/history/STEEM_2017.json',\n",
    "]\n",
    "from toolz import thread_last\n",
    "\n",
    "steem_chart = thread_last(\n",
    "    historic_data(steem_urls),\n",
    "    merge_historic_data,\n",
    "    (map, chart_filter),\n",
    "    list,\n",
    ")"
   ]
  },
  {
   "cell_type": "code",
   "execution_count": null,
   "metadata": {
    "collapsed": true
   },
   "outputs": [],
   "source": []
  },
  {
   "cell_type": "code",
   "execution_count": 5,
   "metadata": {
    "collapsed": true
   },
   "outputs": [],
   "source": [
    "df = pd.DataFrame(steem_chart)"
   ]
  },
  {
   "cell_type": "code",
   "execution_count": 6,
   "metadata": {},
   "outputs": [
    {
     "data": {
      "text/html": [
       "<div>\n",
       "<style>\n",
       "    .dataframe thead tr:only-child th {\n",
       "        text-align: right;\n",
       "    }\n",
       "\n",
       "    .dataframe thead th {\n",
       "        text-align: left;\n",
       "    }\n",
       "\n",
       "    .dataframe tbody tr th {\n",
       "        vertical-align: top;\n",
       "    }\n",
       "</style>\n",
       "<table border=\"1\" class=\"dataframe\">\n",
       "  <thead>\n",
       "    <tr style=\"text-align: right;\">\n",
       "      <th></th>\n",
       "      <th>cap_usd</th>\n",
       "      <th>price_btc</th>\n",
       "      <th>price_usd</th>\n",
       "      <th>supply</th>\n",
       "      <th>symbol</th>\n",
       "      <th>timestamp</th>\n",
       "      <th>volume_btc</th>\n",
       "    </tr>\n",
       "  </thead>\n",
       "  <tbody>\n",
       "    <tr>\n",
       "      <th>416</th>\n",
       "      <td>530551374</td>\n",
       "      <td>0.000768</td>\n",
       "      <td>2.26676</td>\n",
       "      <td>234057145</td>\n",
       "      <td>STEEM</td>\n",
       "      <td>2017-06-12 00:00:02</td>\n",
       "      <td>2742</td>\n",
       "    </tr>\n",
       "    <tr>\n",
       "      <th>417</th>\n",
       "      <td>492335702</td>\n",
       "      <td>0.000796</td>\n",
       "      <td>2.10289</td>\n",
       "      <td>234123374</td>\n",
       "      <td>STEEM</td>\n",
       "      <td>2017-06-13 00:00:02</td>\n",
       "      <td>3129</td>\n",
       "    </tr>\n",
       "    <tr>\n",
       "      <th>418</th>\n",
       "      <td>546869965</td>\n",
       "      <td>0.000860</td>\n",
       "      <td>2.33504</td>\n",
       "      <td>234201540</td>\n",
       "      <td>STEEM</td>\n",
       "      <td>2017-06-14 00:00:02</td>\n",
       "      <td>3155</td>\n",
       "    </tr>\n",
       "    <tr>\n",
       "      <th>419</th>\n",
       "      <td>467210043</td>\n",
       "      <td>0.000817</td>\n",
       "      <td>1.99433</td>\n",
       "      <td>234269175</td>\n",
       "      <td>STEEM</td>\n",
       "      <td>2017-06-15 00:00:02</td>\n",
       "      <td>2025</td>\n",
       "    </tr>\n",
       "    <tr>\n",
       "      <th>420</th>\n",
       "      <td>464083335</td>\n",
       "      <td>0.000826</td>\n",
       "      <td>1.98022</td>\n",
       "      <td>234359483</td>\n",
       "      <td>STEEM</td>\n",
       "      <td>2017-06-16 00:00:02</td>\n",
       "      <td>2504</td>\n",
       "    </tr>\n",
       "  </tbody>\n",
       "</table>\n",
       "</div>"
      ],
      "text/plain": [
       "       cap_usd  price_btc  price_usd     supply symbol           timestamp  \\\n",
       "416  530551374   0.000768    2.26676  234057145  STEEM 2017-06-12 00:00:02   \n",
       "417  492335702   0.000796    2.10289  234123374  STEEM 2017-06-13 00:00:02   \n",
       "418  546869965   0.000860    2.33504  234201540  STEEM 2017-06-14 00:00:02   \n",
       "419  467210043   0.000817    1.99433  234269175  STEEM 2017-06-15 00:00:02   \n",
       "420  464083335   0.000826    1.98022  234359483  STEEM 2017-06-16 00:00:02   \n",
       "\n",
       "     volume_btc  \n",
       "416        2742  \n",
       "417        3129  \n",
       "418        3155  \n",
       "419        2025  \n",
       "420        2504  "
      ]
     },
     "execution_count": 6,
     "metadata": {},
     "output_type": "execute_result"
    }
   ],
   "source": [
    "df.sort_values('timestamp').tail()"
   ]
  },
  {
   "cell_type": "code",
   "execution_count": 7,
   "metadata": {
    "collapsed": true
   },
   "outputs": [],
   "source": [
    "# cf.go_offline()"
   ]
  },
  {
   "cell_type": "code",
   "execution_count": 8,
   "metadata": {
    "collapsed": true
   },
   "outputs": [],
   "source": [
    "df.sort_values('timestamp', inplace=True)\n",
    "df.set_index('timestamp', inplace=True)"
   ]
  },
  {
   "cell_type": "code",
   "execution_count": 9,
   "metadata": {},
   "outputs": [
    {
     "name": "stderr",
     "output_type": "stream",
     "text": [
      "/home/user/anaconda3/lib/python3.6/site-packages/cufflinks/plotlytools.py:156: FutureWarning:\n",
      "\n",
      "pandas.tslib is deprecated and will be removed in a future version.\n",
      "You can access Timestamp as pandas.Timestamp\n",
      "\n"
     ]
    },
    {
     "data": {
      "text/html": [
       "<iframe id=\"igraph\" scrolling=\"no\" style=\"border:none;\" seamless=\"seamless\" src=\"https://plot.ly/~plotlyfurion/24.embed\" height=\"525px\" width=\"100%\"></iframe>"
      ],
      "text/plain": [
       "<plotly.tools.PlotlyDisplay object>"
      ]
     },
     "execution_count": 9,
     "metadata": {},
     "output_type": "execute_result"
    }
   ],
   "source": [
    "df[['cap_usd', 'supply']].iplot(title='USD Market Cap and STEEM Supply',\n",
    "                 colors=['blue', 'orange'],\n",
    "                 theme='white',\n",
    "                 fill=True,\n",
    "                 filename='steem-supply-cap')"
   ]
  },
  {
   "cell_type": "code",
   "execution_count": null,
   "metadata": {
    "collapsed": true
   },
   "outputs": [],
   "source": []
  },
  {
   "cell_type": "code",
   "execution_count": null,
   "metadata": {
    "collapsed": true
   },
   "outputs": [],
   "source": []
  }
 ],
 "metadata": {
  "kernelspec": {
   "display_name": "Python 3",
   "language": "python",
   "name": "python3"
  },
  "language_info": {
   "codemirror_mode": {
    "name": "ipython",
    "version": 3
   },
   "file_extension": ".py",
   "mimetype": "text/x-python",
   "name": "python",
   "nbconvert_exporter": "python",
   "pygments_lexer": "ipython3",
   "version": "3.6.1"
  }
 },
 "nbformat": 4,
 "nbformat_minor": 2
}
